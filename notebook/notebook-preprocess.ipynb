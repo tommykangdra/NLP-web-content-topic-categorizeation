{
    "cells": [
        {
            "cell_type": "code",
            "execution_count": 8,
            "source": [
                "import pandas as pd\r\n",
                "# applying progress bar\r\n",
                "from tqdm import tqdm\r\n",
                "tqdm.pandas()\r\n",
                "\r\n",
                "df = pd.read_csv('../data/raw/train.csv')\r\n",
                "print('Total rows', len(df))"
            ],
            "outputs": [
                {
                    "output_type": "stream",
                    "name": "stderr",
                    "text": [
                        "C:\\Users\\tommy\\anaconda3\\envs\\py37\\lib\\site-packages\\tqdm\\std.py:702: FutureWarning: The Panel class is removed from pandas. Accessing it from the top-level namespace will also be removed in the next version\n",
                        "  from pandas import Panel\n"
                    ]
                },
                {
                    "output_type": "stream",
                    "name": "stdout",
                    "text": [
                        "Total rows 955454\n"
                    ]
                }
            ],
            "metadata": {}
        },
        {
            "cell_type": "code",
            "execution_count": 2,
            "source": [
                "df.columns"
            ],
            "outputs": [
                {
                    "output_type": "execute_result",
                    "data": {
                        "text/plain": [
                            "Index(['Outcome', 'Text', 'Id'], dtype='object')"
                        ]
                    },
                    "metadata": {},
                    "execution_count": 2
                }
            ],
            "metadata": {}
        },
        {
            "cell_type": "code",
            "execution_count": 3,
            "source": [
                "from nltk.sentiment.vader import SentimentIntensityAnalyzer\r\n",
                "\r\n",
                "sid = SentimentIntensityAnalyzer()\r\n",
                "\r\n",
                "#test sid\r\n",
                "sid.polarity_scores(df.Text[0])['compound']\r\n"
            ],
            "outputs": [
                {
                    "output_type": "execute_result",
                    "data": {
                        "text/plain": [
                            "0.3182"
                        ]
                    },
                    "metadata": {},
                    "execution_count": 3
                }
            ],
            "metadata": {}
        },
        {
            "cell_type": "code",
            "execution_count": 13,
            "source": [
                "df = df \\\r\n",
                "    .assign(vader_sentiment = df.Text[:100000].progress_apply(lambda text: sid.polarity_scores(text)['compound']))"
            ],
            "outputs": [
                {
                    "output_type": "stream",
                    "name": "stderr",
                    "text": [
                        "100%|██████████| 100000/100000 [00:37<00:00, 2678.58it/s]\n"
                    ]
                }
            ],
            "metadata": {}
        },
        {
            "cell_type": "code",
            "execution_count": 11,
            "source": [
                "import swifter\r\n",
                "\r\n",
                "df['vader_sentiment_2'] = df.Text.swifter.apply(lambda text: sid.polarity_scores(text)['compound'])"
            ],
            "outputs": [
                {
                    "output_type": "stream",
                    "name": "stderr",
                    "text": [
                        "Pandas Apply: 100%|██████████| 955454/955454 [06:00<00:00, 2646.77it/s]\n"
                    ]
                }
            ],
            "metadata": {}
        },
        {
            "cell_type": "code",
            "execution_count": 14,
            "source": [
                "df.head(5)"
            ],
            "outputs": [
                {
                    "output_type": "execute_result",
                    "data": {
                        "text/plain": [
                            "   Outcome                                               Text  Id  \\\n",
                            "0       14  I am having a problem with the first example o...   1   \n",
                            "1       14  everyone, I met a tough definite integral as f...   2   \n",
                            "2        7  Please dont lynch me, but i've never sat throu...   3   \n",
                            "3       14  How to calculate $ \\mathbb{Z}[x] /\\langle2x-1\\...   4   \n",
                            "4        2  When somebody rings or texts my iPhone it is n...   5   \n",
                            "\n",
                            "   vader_sentiment  vader_sentiment_2  \n",
                            "0           0.3182             0.3182  \n",
                            "1           0.1531             0.1531  \n",
                            "2          -0.7789            -0.7789  \n",
                            "3           0.0000             0.0000  \n",
                            "4           0.0000             0.0000  "
                        ],
                        "text/html": [
                            "<div>\n",
                            "<style scoped>\n",
                            "    .dataframe tbody tr th:only-of-type {\n",
                            "        vertical-align: middle;\n",
                            "    }\n",
                            "\n",
                            "    .dataframe tbody tr th {\n",
                            "        vertical-align: top;\n",
                            "    }\n",
                            "\n",
                            "    .dataframe thead th {\n",
                            "        text-align: right;\n",
                            "    }\n",
                            "</style>\n",
                            "<table border=\"1\" class=\"dataframe\">\n",
                            "  <thead>\n",
                            "    <tr style=\"text-align: right;\">\n",
                            "      <th></th>\n",
                            "      <th>Outcome</th>\n",
                            "      <th>Text</th>\n",
                            "      <th>Id</th>\n",
                            "      <th>vader_sentiment</th>\n",
                            "      <th>vader_sentiment_2</th>\n",
                            "    </tr>\n",
                            "  </thead>\n",
                            "  <tbody>\n",
                            "    <tr>\n",
                            "      <th>0</th>\n",
                            "      <td>14</td>\n",
                            "      <td>I am having a problem with the first example o...</td>\n",
                            "      <td>1</td>\n",
                            "      <td>0.3182</td>\n",
                            "      <td>0.3182</td>\n",
                            "    </tr>\n",
                            "    <tr>\n",
                            "      <th>1</th>\n",
                            "      <td>14</td>\n",
                            "      <td>everyone, I met a tough definite integral as f...</td>\n",
                            "      <td>2</td>\n",
                            "      <td>0.1531</td>\n",
                            "      <td>0.1531</td>\n",
                            "    </tr>\n",
                            "    <tr>\n",
                            "      <th>2</th>\n",
                            "      <td>7</td>\n",
                            "      <td>Please dont lynch me, but i've never sat throu...</td>\n",
                            "      <td>3</td>\n",
                            "      <td>-0.7789</td>\n",
                            "      <td>-0.7789</td>\n",
                            "    </tr>\n",
                            "    <tr>\n",
                            "      <th>3</th>\n",
                            "      <td>14</td>\n",
                            "      <td>How to calculate $ \\mathbb{Z}[x] /\\langle2x-1\\...</td>\n",
                            "      <td>4</td>\n",
                            "      <td>0.0000</td>\n",
                            "      <td>0.0000</td>\n",
                            "    </tr>\n",
                            "    <tr>\n",
                            "      <th>4</th>\n",
                            "      <td>2</td>\n",
                            "      <td>When somebody rings or texts my iPhone it is n...</td>\n",
                            "      <td>5</td>\n",
                            "      <td>0.0000</td>\n",
                            "      <td>0.0000</td>\n",
                            "    </tr>\n",
                            "  </tbody>\n",
                            "</table>\n",
                            "</div>"
                        ]
                    },
                    "metadata": {},
                    "execution_count": 14
                }
            ],
            "metadata": {}
        },
        {
            "cell_type": "code",
            "execution_count": 4,
            "source": [
                "import spacy\r\n",
                "from bs4 import BeautifulSoup\r\n",
                "import re\r\n",
                "\r\n",
                "nlp = spacy.load('en_core_web_sm')"
            ],
            "outputs": [
                {
                    "output_type": "stream",
                    "name": "stderr",
                    "text": [
                        "WARNING:root:Limited tf.compat.v2.summary API due to missing TensorBoard installation.\n",
                        "WARNING:root:Limited tf.compat.v2.summary API due to missing TensorBoard installation.\n",
                        "WARNING:root:Limited tf.compat.v2.summary API due to missing TensorBoard installation.\n",
                        "WARNING:root:Limited tf.summary API due to missing TensorBoard installation.\n"
                    ]
                }
            ],
            "metadata": {}
        },
        {
            "cell_type": "code",
            "execution_count": 5,
            "source": [
                "def preprocess_soup(text):\r\n",
                "    bs = BeautifulSoup(text, 'lxml').get_text()\r\n",
                "    return bs"
            ],
            "outputs": [],
            "metadata": {}
        },
        {
            "cell_type": "code",
            "execution_count": null,
            "source": [
                "df['Preprocess'] = df.Text.progress_apply(preprocess_soup)"
            ],
            "outputs": [],
            "metadata": {}
        },
        {
            "cell_type": "code",
            "execution_count": 11,
            "source": [
                "from nltk.corpus import stopwords\r\n",
                "import re\r\n",
                "import nltk\r\n",
                "from nltk.tokenize import TreebankWordTokenizer\r\n",
                "from nltk.stem import WordNetLemmatizer \r\n",
                "\r\n",
                "stop_words = stopwords.words('english')\r\n",
                "lemmatizer = WordNetLemmatizer()\r\n",
                "\r\n",
                "def preprocess(input):\r\n",
                "    # removing link\r\n",
                "    pat1 = r'http?://[A-Za-z0-9./]+'\r\n",
                "    pat2 = r'https?://[A-Za-z0-9./]+'\r\n",
                "    combined_pat = r'|'.join((pat1, pat2))\r\n",
                "    re1 = re.sub(combined_pat, '', input)\r\n",
                "\r\n",
                "    # lower case\r\n",
                "    text = re1.lower()\r\n",
                "    \r\n",
                "    #remove apostrophy\r\n",
                "    remove_apo =  text.translate({ord(c): \"\" for c in \"'\"})\r\n",
                "    \r\n",
                "    #remove special character\r\n",
                "    removeSpecialChars =  remove_apo.translate({ord(c): \" \" for c in \"!@#$%^&*()[]{};:,./<>?\\|`~-=_+\"})\r\n",
                "    words = removeSpecialChars.split()\r\n",
                "\r\n",
                "    # loop for preprocessing\r\n",
                "    sentence_transform = []\r\n",
                "    for word in words:\r\n",
                "        word_transform = \"\"\r\n",
                "        for character in word:\r\n",
                "            if character.isalpha():\r\n",
                "                word_transform += character\r\n",
                "        if (word_transform not in stop_words) & (len(word_transform) > 1):\r\n",
                "            if not(word_transform.isdigit()):\r\n",
                "                word_lemmatize = lemmatizer.lemmatize(word_transform)\r\n",
                "                sentence_transform.append(word_lemmatize)\r\n",
                "    \r\n",
                "    if len(sentence_transform) >= 100:\r\n",
                "        output = ' '.join(sentence_transform[:100])\r\n",
                "    else:\r\n",
                "        output = ' '.join(sentence_transform)\r\n",
                "    \r\n",
                "    output = re.sub(' +', ' ', output)\r\n",
                "    \r\n",
                "    return output"
            ],
            "outputs": [],
            "metadata": {}
        },
        {
            "cell_type": "code",
            "execution_count": 14,
            "source": [
                "preprocess(df.Preprocess[0])"
            ],
            "outputs": [
                {
                    "output_type": "execute_result",
                    "data": {
                        "text/plain": [
                            "'problem first example amir dembo ofer zeitouni book large deviation technique application could someone please help confirm following statement standard normal random variable logp sum ge delta delta infty'"
                        ]
                    },
                    "metadata": {},
                    "execution_count": 14
                }
            ],
            "metadata": {}
        },
        {
            "cell_type": "code",
            "execution_count": 16,
            "source": [
                "df['Output'] = df.Preprocess.progress_apply(preprocess)"
            ],
            "outputs": [
                {
                    "output_type": "stream",
                    "name": "stderr",
                    "text": [
                        "100%|██████████| 955454/955454 [03:30<00:00, 4544.26it/s]\n"
                    ]
                }
            ],
            "metadata": {}
        },
        {
            "cell_type": "code",
            "execution_count": 20,
            "source": [
                "df \\\r\n",
                "    [['Id', 'Output', 'Outcome']] \\\r\n",
                "    .to_csv('../data/preprocess/train_prep.csv')"
            ],
            "outputs": [],
            "metadata": {}
        }
    ],
    "metadata": {
        "orig_nbformat": 4,
        "language_info": {
            "name": "python",
            "version": "3.7.10",
            "mimetype": "text/x-python",
            "codemirror_mode": {
                "name": "ipython",
                "version": 3
            },
            "pygments_lexer": "ipython3",
            "nbconvert_exporter": "python",
            "file_extension": ".py"
        },
        "kernelspec": {
            "name": "python3",
            "display_name": "Python 3.7.10 64-bit ('py37': conda)"
        },
        "interpreter": {
            "hash": "2665fba3c9b9053bd7988a9ac1b3683e4667374c1c53ba8cc516f0fab147a43b"
        }
    },
    "nbformat": 4,
    "nbformat_minor": 2
}