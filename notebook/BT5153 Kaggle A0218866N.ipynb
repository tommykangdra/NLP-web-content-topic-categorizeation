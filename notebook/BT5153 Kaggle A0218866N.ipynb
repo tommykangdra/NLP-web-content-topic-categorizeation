{
 "cells": [
  {
   "cell_type": "markdown",
   "id": "assisted-niagara",
   "metadata": {},
   "source": [
    "**Student Name**: Tommy Kangdra\n",
    "\n",
    "**Student ID**: A0218866N"
   ]
  },
  {
   "cell_type": "markdown",
   "id": "major-continuity",
   "metadata": {},
   "source": [
    "# 0. Import the Library"
   ]
  },
  {
   "cell_type": "code",
   "execution_count": 1,
   "id": "intimate-script",
   "metadata": {},
   "outputs": [],
   "source": [
    "import pandas as pd\n",
    "import matplotlib.pyplot as plt\n",
    "import numpy as np\n",
    "import seaborn as sns"
   ]
  },
  {
   "cell_type": "code",
   "execution_count": 2,
   "id": "further-advisory",
   "metadata": {},
   "outputs": [],
   "source": [
    "df_train_ori = pd.read_csv('./Data/train.csv')\n",
    "df_test_ori = pd.read_csv('./Data/test.csv')"
   ]
  },
  {
   "cell_type": "markdown",
   "id": "freelance-unemployment",
   "metadata": {},
   "source": [
    "# 1.0 EDA"
   ]
  },
  {
   "cell_type": "code",
   "execution_count": 3,
   "id": "intermediate-packing",
   "metadata": {},
   "outputs": [
    {
     "data": {
      "text/plain": [
       "14    483982\n",
       "13     83464\n",
       "12     64990\n",
       "9      49192\n",
       "2      47268\n",
       "7      42518\n",
       "8      38590\n",
       "5      32702\n",
       "1      31270\n",
       "0      24428\n",
       "3      20200\n",
       "10     16062\n",
       "11      7168\n",
       "4       6108\n",
       "15      5184\n",
       "6       2328\n",
       "Name: Outcome, dtype: int64"
      ]
     },
     "execution_count": 3,
     "metadata": {},
     "output_type": "execute_result"
    }
   ],
   "source": [
    "df_train_ori.Outcome.value_counts()"
   ]
  },
  {
   "cell_type": "code",
   "execution_count": 4,
   "id": "together-image",
   "metadata": {},
   "outputs": [],
   "source": [
    "def word_count(sentence):\n",
    "    words = sentence.split()\n",
    "    length = len(words)\n",
    "    return length"
   ]
  },
  {
   "cell_type": "code",
   "execution_count": 5,
   "id": "pleased-magnitude",
   "metadata": {},
   "outputs": [],
   "source": [
    "df_test_ori['word_length'] = df_test_ori.Text.apply(word_count)"
   ]
  },
  {
   "cell_type": "code",
   "execution_count": 6,
   "id": "overhead-wallace",
   "metadata": {},
   "outputs": [],
   "source": [
    "df_train_ori['word_length'] = df_train_ori.Text.apply(word_count)"
   ]
  },
  {
   "cell_type": "markdown",
   "id": "regional-floating",
   "metadata": {},
   "source": [
    "# 2.0 Feature Engineering"
   ]
  },
  {
   "cell_type": "code",
   "execution_count": 7,
   "id": "bizarre-welding",
   "metadata": {},
   "outputs": [],
   "source": [
    "stop_words = ['xd', 'xp', 'xa', 'the', 'and',\n",
    "          'http', 'https', 'www', 'imgur',\n",
    "          'quot', 'like', 'does', 'know', \n",
    "          'just', 'time', 'didn',\n",
    "          'question', 'people', 'good',\n",
    "          'want', #additional 3\n",
    "          'using', 'tried', 'help', 'problem', \n",
    "          'used', 'need', 'create', 'title', \n",
    "          'possible', 'enter',\n",
    "          'really', 'make', 'send', 'understand']"
   ]
  },
  {
   "cell_type": "code",
   "execution_count": 8,
   "id": "exempt-eligibility",
   "metadata": {},
   "outputs": [],
   "source": [
    "from nltk.corpus import stopwords\n",
    "import re\n",
    "import nltk\n",
    "from nltk.tokenize import TreebankWordTokenizer\n",
    "from nltk.stem import WordNetLemmatizer \n",
    "\n",
    "stop_words = stopwords.words('english')\n",
    "lemmatizer = WordNetLemmatizer()\n",
    "\n",
    "\n",
    "def preprocess(input):\n",
    "    \n",
    "    pat1 = r'http?://[A-Za-z0-9./]+'\n",
    "    pat2 = r'https?://[A-Za-z0-9./]+'\n",
    "    combined_pat = r'|'.join((pat1, pat2))\n",
    "    \n",
    "    re1 = re.sub(combined_pat, '', input)\n",
    "    text = re1.lower()\n",
    "    \n",
    "    \n",
    "    remove_apo =  text.translate({ord(c): \"\" for c in \"'\"})\n",
    "    removeSpecialChars =  remove_apo.translate({ord(c): \" \" for c in \"!@#$%^&*()[]{};:,./<>?\\|`~-=_+\"})\n",
    "    words = removeSpecialChars.split()\n",
    "    sentence_transform = []\n",
    "\n",
    "#     stop_words = ['http', 'https', 'www', 'imgur',\n",
    "#                   'quot', 'like', 'does', 'know', \n",
    "#                   'frac', 'just', 'time', 'didn',\n",
    "#                   'question', 'people', 'good',\n",
    "#                   'want']\n",
    "    \n",
    "    for word in words:\n",
    "        word_transform = \"\"\n",
    "        for character in word:\n",
    "            if character.isalpha():\n",
    "                word_transform += character\n",
    "        if (word_transform not in stop_words) & (len(word_transform) > 1):\n",
    "            if not(word_transform.isdigit()):\n",
    "                word_lemmatize = lemmatizer.lemmatize(word_transform)\n",
    "                sentence_transform.append(word_lemmatize)\n",
    "    \n",
    "    if len(sentence_transform) >= 100:\n",
    "        output = ' '.join(sentence_transform[:100])\n",
    "    else:\n",
    "        output = ' '.join(sentence_transform)\n",
    "    \n",
    "    output = re.sub(' +', ' ', output)\n",
    "    \n",
    "    return output"
   ]
  },
  {
   "cell_type": "code",
   "execution_count": 9,
   "id": "searching-bunny",
   "metadata": {},
   "outputs": [],
   "source": [
    "from bs4 import BeautifulSoup\n",
    "import re\n",
    "def preprocess_new(text):\n",
    "    bs = BeautifulSoup(text, 'lxml').get_text()\n",
    "    return bs"
   ]
  },
  {
   "cell_type": "code",
   "execution_count": 10,
   "id": "united-driver",
   "metadata": {},
   "outputs": [],
   "source": [
    "def preprocess_simpler(text):\n",
    "    text = text.lower()\n",
    "    remove_apo =  text.translate({ord(c): \"\" for c in \"'\"})\n",
    "    removeSpecialChars =  remove_apo.translate({ord(c): \" \" for c in \"!@#$%^&*()[]{};:,./<>?\\|`~-=_+\"})\n",
    "    words = removeSpecialChars.split()\n",
    "    sentence_transform = []\n",
    "    \n",
    "    for word in words:\n",
    "        word_transform = \"\"\n",
    "        for character in word:\n",
    "            if character.isalpha():\n",
    "                word_transform += character\n",
    "        if (len(word_transform) > 2):\n",
    "            if not(word_transform.isdigit()):\n",
    "                sentence_transform.append(word_transform)\n",
    "    \n",
    "    return ' '.join(sentence_transform)"
   ]
  },
  {
   "cell_type": "markdown",
   "id": "scheduled-cross",
   "metadata": {},
   "source": [
    "# Spltting Train, Test, Final Test"
   ]
  },
  {
   "cell_type": "code",
   "execution_count": 11,
   "id": "built-bargain",
   "metadata": {},
   "outputs": [],
   "source": [
    "df_train = df_train_ori.copy()\n",
    "df_finaltest = df_test_ori.copy()"
   ]
  },
  {
   "cell_type": "code",
   "execution_count": 12,
   "id": "central-investment",
   "metadata": {},
   "outputs": [
    {
     "data": {
      "text/plain": [
       "((812135,), (143319,), (812135,), (143319,))"
      ]
     },
     "execution_count": 12,
     "metadata": {},
     "output_type": "execute_result"
    }
   ],
   "source": [
    "from sklearn.model_selection import train_test_split\n",
    "\n",
    "X = df_train['Text']\n",
    "y = df_train['Outcome']\n",
    "\n",
    "X_train, X_test, y_train, y_test = train_test_split(X, y, test_size = 0.15, random_state = 1234, stratify = y)\n",
    "X_train.shape, X_test.shape, y_train.shape, y_test.shape"
   ]
  },
  {
   "cell_type": "code",
   "execution_count": 13,
   "id": "available-prison",
   "metadata": {},
   "outputs": [
    {
     "name": "stdout",
     "output_type": "stream",
     "text": [
      "248493 5599\n"
     ]
    }
   ],
   "source": [
    "import random\n",
    "np.random.seed = 42\n",
    "num_sample = 20000\n",
    "\n",
    "index_train = []\n",
    "for i in range(16):\n",
    "    index_list = list(y_train[y_train == i].index)\n",
    "    if len(index_list) > num_sample:\n",
    "        index_train += (random.sample(index_list, num_sample))\n",
    "    else:\n",
    "        index_train += (index_list)\n",
    "\n",
    "test_sample = 350\n",
    "index_test = []\n",
    "for i in range(16):\n",
    "    index_list = list(y_test[y_test == i].index)\n",
    "    if len(index_list) > test_sample:\n",
    "        index_test += (random.sample(index_list, test_sample))\n",
    "    else:\n",
    "        index_test += (index_list)\n",
    "        \n",
    "print(len(index_train), len(index_test))"
   ]
  },
  {
   "cell_type": "code",
   "execution_count": 14,
   "id": "associate-clinic",
   "metadata": {},
   "outputs": [],
   "source": [
    "df_train = df_train_ori.loc[index_train].copy()\n",
    "df_test = df_train_ori.loc[index_test].copy()\n",
    "df_finaltest = df_test_ori.copy()"
   ]
  },
  {
   "cell_type": "code",
   "execution_count": 15,
   "id": "extended-worry",
   "metadata": {},
   "outputs": [
    {
     "name": "stdout",
     "output_type": "stream",
     "text": [
      "==original==\n",
      "Recently i update my Samsung Galaxy S2 OS from 2.3 to 4.0 after that the internet is not wroking properly (i.e. Internet web, facebook, twitter) if i open this application &quot;unfortunately internet stopped&quot; this message is appearing. Pls help me to fix this problem? 3\n",
      "==preprocess==\n",
      "recently update samsung galaxy o internet wroking properly internet web facebook twitter open application quot unfortunately internet stopped quot message appearing pls help fix problem\n",
      "\n",
      "\n",
      "==original==\n",
      "Whats the correct way to programmatically include unpublished content in entity reference fields? (without views) 8\n",
      "==preprocess==\n",
      "whats correct way programmatically include unpublished content entity reference field without view\n",
      "\n",
      "\n",
      "==original==\n",
      "I've just begun to study knot theory and I'm wondering how does the one-point compactification of $\\mathbb{R}^3$ change the knot group of a knot $K$, e.g. if $\\pi(\\mathbb{R}^3 \\backslash K)$ is isomorphic to $\\pi(\\mathbb{S}^3 \\backslash K)$. My intuition is that yes, they're isomorphic, but how could I proceed the formal proof? &#xD;&#xA;Thank you in advance for your help. 14\n",
      "==preprocess==\n",
      "ive begun study knot theory im wondering one point compactification mathbb change knot group knot pi mathbb backslash isomorphic pi mathbb backslash intuition yes theyre isomorphic could proceed formal proof xd xa thank advance help\n",
      "\n",
      "\n",
      "==original==\n",
      "How Does Defense On Helmets Work? 9\n",
      "==preprocess==\n",
      "defense helmet work\n",
      "\n",
      "\n",
      "==original==\n",
      "&gt; Prove that if matrix $A \\in M_{nxn}(K)$ has&lt;br&gt;(a) $n$ pairs of different eigenvalues belonging to $ K $ then $A$ is diagonalizable over $K$&lt;br&gt;(b)exactly one custom value in $ K $ then $ A $ is diagonisable over $ K $ if and only if $ A $ is diagonal&#xD;&#xA;&#xD;&#xA;**My try**&lt;br&gt;&#xD;&#xA;(a) If matrix $A \\in M_{nxn}(K)$ has $n$ pairs of different eigenvalues belonging to $ K $ then I have $w(\\lambda)=(\\lambda-a_{1})(\\lambda-a_{2})...(\\lambda-a_{n})$.&lt;br&gt;(b) $w(\\lambda)=(\\lambda-a_{1})(\\lambda^{n-1}+\\lambda^{n-2}+...+1)$&lt;br&gt;Unfortunately I don't have idea how to come to the conclusions.&lt;br&gt;&lt;br&gt;Can you help me and get some tips? 14\n",
      "==preprocess==\n",
      "gt prove matrix nxn lt br gt pair different eigenvalue belonging diagonalizable lt br gt exactly one custom value diagonisable diagonal xd xa xd xa try lt br gt xd xa matrix nxn pair different eigenvalue belonging lambda lambda lambda lambda lt br gt lambda lambda lambda lambda lt br gt unfortunately dont idea come conclusion lt br gt lt br gt help get tip\n",
      "\n",
      "\n",
      "==original==\n",
      "How does increasing voltage or current affect the power? 12\n",
      "==preprocess==\n",
      "increasing voltage current affect power\n",
      "\n",
      "\n",
      "==original==\n",
      "I wanted to unset some javascripts since they does nothing but conflict on my custom JS in my mobile theme.&#xD;&#xA;&#xD;&#xA;What I did:&#xD;&#xA;&#xD;&#xA;  &#xD;&#xA;&#xD;&#xA;    // Load all js scripts&#xD;&#xA;     $scripts = drupal_add_js();&#xD;&#xA;    &#xD;&#xA;      // Unset all unnecessary scripts&#xD;&#xA;     unset($scripts['module']['sites/all/modules/ajax/ajax.js']);&#xD;&#xA;     unset($scripts['module']['sites/all/modules/contribs/mollom/mollom.js']);&#xD;&#xA;     unset($scripts['module']['sites/all/modules/contribs/views_slideshow/js/jquery.cycle.all.min.js']);&#xD;&#xA;     unset($scripts['module']['sites/all/modules/contribs/views_slideshow/contrib/views_slideshow_singleframe/views_slideshow.js']);&#xD;&#xA;     unset($scripts['module']['sites/all/modules/contribs/views_slideshow/contrib/views_slideshow_thumbnailhover/views_slideshow.js']);&#xD;&#xA;     unset($scripts['module']['sites/all/modules/quicktabs/js/quicktabs.js']);&#xD;&#xA;     unset($scripts['module']['sites/all/modules/panels/js/panels.js']);&#xD;&#xA;     unset($scripts['module']['sites/all/modules/tipsy/javascripts/jquery.tipsy.js']);&#xD;&#xA;     unset($scripts['module']['sites/all/modules/tipsy/javascripts/tipsy.js']);&#xD;&#xA;     unset($scripts['module']['sites/all/modules/boxes/boxes.js']);&#xD;&#xA;     &#xD;&#xA;     // Recreate the template variables&#xD;&#xA;    &#xD;&#xA;     $vars['scripts'] = drupal_get_js('header', $scripts);&#xD;&#xA;&#xD;&#xA;But the above code is not working in `preprocess_page` which I think it really works in the first place, it's just that the original initialization of $scripts in `page.tpl.php` loads after the `preprocess_page` alteration.&#xD;&#xA;&#xD;&#xA;Anyone of have an idea? 8\n",
      "==preprocess==\n",
      "wanted unset javascripts since nothing conflict custom j mobile theme xd xa xd xa xd xa xd xa xd xa xd xa load j script xd xa script drupal add j xd xa xd xa unset unnecessary script xd xa unset script module site module ajax ajax j xd xa unset script module site module contribs mollom mollom j xd xa unset script module site module contribs view slideshow j jquery cycle min j xd xa unset script module site module contribs view slideshow contrib view slideshow singleframe view slideshow j xd xa unset script module site module contribs view\n",
      "\n",
      "\n",
      "==original==\n",
      "In Drupal 6 there is a possibility to customize URL alias by the help of *[AUTOMATED ALIAS SETTINGS]*, but this will affect all the articles. I need to restructure my URL alias only for few paid articles.&#xD;&#xA;&#xD;&#xA;Can we able to add /pro/ somewhere in the url only for few articles like as follows,&#xD;&#xA;&#xD;&#xA;**Original article url parameters:**&#xD;&#xA;&#xD;&#xA;www.example.com/{article}/{channel}/{year}/{month}/{nid}/{article_title}&#xD;&#xA;&#xD;&#xA;**Customised article URL:**&#xD;&#xA;&#xD;&#xA;www.example.com/pro/{article}/{channel}/{year}/{month}/{nid}/{article_title} 8\n",
      "==preprocess==\n",
      "drupal possibility customize url alias help automated alias setting affect article need restructure url alias paid article xd xa xd xa able add pro somewhere url article like follows xd xa xd xa original article url parameter xd xa xd xa www example com article channel year month nid article title xd xa xd xa customised article url xd xa xd xa www example com pro article channel year month nid article title\n",
      "\n",
      "\n",
      "==original==\n",
      "I want to write my first module for Drupal 7 (Commerce Kickstart).  What I want to achieve is to set an option in the module to show or remove the VAT on the packing slip and confirmation emails.  A simple checkbox to switch this on and off would do the job.&#xD;&#xA;&#xD;&#xA;Can anyone help me get started with this?  What hooks would I be best using?  Is there a better way to achieve this?&#xD;&#xA;&#xD;&#xA;&#xD;&#xA;Thank you 8\n",
      "==preprocess==\n",
      "want write first module drupal commerce kickstart want achieve set option module show remove vat packing slip confirmation email simple checkbox switch would job xd xa xd xa anyone help get started hook would best using better way achieve xd xa xd xa xd xa thank\n",
      "\n",
      "\n",
      "==original==\n",
      "Blank lines appearing in a CSV exported from Excel, only on 1 Mac, other Macs don't see them 2\n",
      "==preprocess==\n",
      "blank line appearing csv exported excel mac mac dont see\n",
      "\n",
      "\n"
     ]
    }
   ],
   "source": [
    "import random\n",
    "try10 = random.sample(list(df_train.index), 10)\n",
    "\n",
    "for idx in try10:\n",
    "    print('==original==')\n",
    "    print(df_train.loc[idx, 'Text'], df_train.loc[idx, 'Outcome'])\n",
    "    print('==preprocess==')\n",
    "    print(preprocess(df_train.loc[idx, 'Text']))\n",
    "    print('\\n')"
   ]
  },
  {
   "cell_type": "code",
   "execution_count": 25,
   "id": "proprietary-cleaning",
   "metadata": {},
   "outputs": [],
   "source": [
    "from tqdm import tqdm\n",
    "tqdm.pandas()"
   ]
  },
  {
   "cell_type": "code",
   "execution_count": 17,
   "id": "accepting-halifax",
   "metadata": {},
   "outputs": [
    {
     "name": "stderr",
     "output_type": "stream",
     "text": [
      " 78%|███████████████████████████████████████████████████████▉                | 193232/248493 [00:37<00:09, 5675.09it/s]C:\\Users\\tommy\\anaconda3\\envs\\python3.7\\lib\\site-packages\\bs4\\__init__.py:424: MarkupResemblesLocatorWarning: \"http://physics.stackexchange.com/questions/266308/do-pear-shaped-nuclei-really-have-anything-to-do-with-time-travel/266388#266388\" looks like a URL. Beautiful Soup is not an HTTP client. You should probably use an HTTP client like requests to get the document behind the URL, and feed that document to Beautiful Soup.\n",
      "  MarkupResemblesLocatorWarning\n",
      "100%|████████████████████████████████████████████████████████████████████████| 248493/248493 [00:47<00:00, 5247.48it/s]\n",
      "100%|████████████████████████████████████████████████████████████████████████████| 5599/5599 [00:01<00:00, 5508.02it/s]\n",
      "  7%|████▉                                                                    | 37277/552735 [00:06<01:35, 5373.01it/s]C:\\Users\\tommy\\anaconda3\\envs\\python3.7\\lib\\site-packages\\bs4\\__init__.py:424: MarkupResemblesLocatorWarning: \"http://peoplesworld.org/a-21-year-old-signs-up-to-recall-glenn-grothman/\" looks like a URL. Beautiful Soup is not an HTTP client. You should probably use an HTTP client like requests to get the document behind the URL, and feed that document to Beautiful Soup.\n",
      "  MarkupResemblesLocatorWarning\n",
      " 11%|███████▊                                                                 | 58966/552735 [00:10<01:32, 5342.83it/s]C:\\Users\\tommy\\anaconda3\\envs\\python3.7\\lib\\site-packages\\bs4\\__init__.py:424: MarkupResemblesLocatorWarning: \"http://lusky.com/\" looks like a URL. Beautiful Soup is not an HTTP client. You should probably use an HTTP client like requests to get the document behind the URL, and feed that document to Beautiful Soup.\n",
      "  MarkupResemblesLocatorWarning\n",
      " 47%|██████████████████████████████████                                      | 261519/552735 [00:48<00:53, 5440.63it/s]C:\\Users\\tommy\\anaconda3\\envs\\python3.7\\lib\\site-packages\\bs4\\__init__.py:424: MarkupResemblesLocatorWarning: \"http://theobscuregentlemen.com/2011/05/30/whos-your-doctor/\" looks like a URL. Beautiful Soup is not an HTTP client. You should probably use an HTTP client like requests to get the document behind the URL, and feed that document to Beautiful Soup.\n",
      "  MarkupResemblesLocatorWarning\n",
      " 51%|█████████████████████████████████████                                   | 284542/552735 [00:52<00:49, 5448.26it/s]C:\\Users\\tommy\\anaconda3\\envs\\python3.7\\lib\\site-packages\\bs4\\__init__.py:424: MarkupResemblesLocatorWarning: \"http://xboxdone.com/\" looks like a URL. Beautiful Soup is not an HTTP client. You should probably use an HTTP client like requests to get the document behind the URL, and feed that document to Beautiful Soup.\n",
      "  MarkupResemblesLocatorWarning\n",
      " 53%|██████████████████████████████████████▍                                 | 294917/552735 [00:54<00:47, 5420.62it/s]C:\\Users\\tommy\\anaconda3\\envs\\python3.7\\lib\\site-packages\\bs4\\__init__.py:424: MarkupResemblesLocatorWarning: \"http://www.mdlongevity.com/\" looks like a URL. Beautiful Soup is not an HTTP client. You should probably use an HTTP client like requests to get the document behind the URL, and feed that document to Beautiful Soup.\n",
      "  MarkupResemblesLocatorWarning\n",
      " 65%|██████████████████████████████████████████████▋                         | 358210/552735 [01:06<00:36, 5393.29it/s]C:\\Users\\tommy\\anaconda3\\envs\\python3.7\\lib\\site-packages\\bs4\\__init__.py:424: MarkupResemblesLocatorWarning: \"http://thinkprogress.org/justice/2012/11/01/1122641/ohios-ballot-woes-could-delay-election-results-for-weeks/\" looks like a URL. Beautiful Soup is not an HTTP client. You should probably use an HTTP client like requests to get the document behind the URL, and feed that document to Beautiful Soup.\n",
      "  MarkupResemblesLocatorWarning\n",
      "100%|████████████████████████████████████████████████████████████████████████| 552735/552735 [01:42<00:00, 5369.31it/s]\n"
     ]
    }
   ],
   "source": [
    "df_train['Text'] = df_train['Text'].progress_apply(preprocess_new)\n",
    "df_test['Text'] = df_test['Text'].progress_apply(preprocess_new)\n",
    "df_finaltest['Text'] = df_finaltest['Text'].progress_apply(preprocess_new)"
   ]
  },
  {
   "cell_type": "code",
   "execution_count": 18,
   "id": "orange-mountain",
   "metadata": {},
   "outputs": [
    {
     "name": "stderr",
     "output_type": "stream",
     "text": [
      "100%|████████████████████████████████████████████████████████████████████████| 248493/248493 [00:55<00:00, 4491.82it/s]\n",
      "100%|████████████████████████████████████████████████████████████████████████████| 5599/5599 [00:01<00:00, 4474.65it/s]\n",
      "100%|███████████████████████████████████████████████████████████████████████| 552735/552735 [00:38<00:00, 14383.87it/s]\n"
     ]
    }
   ],
   "source": [
    "df_train['prep'] = df_train['Text'].progress_apply(preprocess)\n",
    "df_test['prep'] = df_test['Text'].progress_apply(preprocess)\n",
    "df_finaltest['prep'] = df_finaltest['Text'].progress_apply(preprocess)"
   ]
  },
  {
   "cell_type": "code",
   "execution_count": 19,
   "id": "sized-announcement",
   "metadata": {},
   "outputs": [],
   "source": [
    "# from tqdm import tqdm\n",
    "# tqdm.pandas()\n",
    "\n",
    "# df_train['prep_simpler'] = df_train['Text'].progress_apply(preprocess_simpler)\n",
    "# df_finaltest['prep_simpler'] = df_finaltest['Text'].progress_apply(preprocess_simpler)"
   ]
  },
  {
   "cell_type": "code",
   "execution_count": 20,
   "id": "celtic-implement",
   "metadata": {},
   "outputs": [
    {
     "name": "stderr",
     "output_type": "stream",
     "text": [
      "100%|██████████████████████████████████████████████████████████████████████████████████| 30/30 [00:11<00:00,  2.65it/s]\n"
     ]
    }
   ],
   "source": [
    "special_char = '!@#$%^&*()[]{}\"\\/;:,.<>|=-`~?'\n",
    "special_char += \"'\"\n",
    "\n",
    "train_feature_matrix = []\n",
    "test_feature_matrix = []\n",
    "final_test_feature_matrix = []\n",
    "\n",
    "for i in tqdm(special_char):\n",
    "    train_feature_matrix += [df_train.Text.apply(lambda x: x.count(i)).values]\n",
    "    test_feature_matrix += [df_test.Text.apply(lambda x: x.count(i)).values]\n",
    "    final_test_feature_matrix += [df_finaltest.Text.apply(lambda x: x.count(i)).values]"
   ]
  },
  {
   "cell_type": "code",
   "execution_count": 21,
   "id": "following-appendix",
   "metadata": {},
   "outputs": [
    {
     "name": "stderr",
     "output_type": "stream",
     "text": [
      "100%|███████████████████████████████████████████████████████████████████████| 248493/248493 [00:06<00:00, 38532.01it/s]\n",
      "100%|███████████████████████████████████████████████████████████████████████████| 5599/5599 [00:00<00:00, 36835.54it/s]\n",
      "100%|██████████████████████████████████████████████████████████████████████| 552735/552735 [00:03<00:00, 145160.38it/s]\n"
     ]
    }
   ],
   "source": [
    "df_train['count_num'] = df_train.Text.progress_apply(lambda x: sum(n.isdigit() for n in x))\n",
    "df_test['count_num'] = df_test.Text.progress_apply(lambda x: sum(n.isdigit() for n in x))\n",
    "df_finaltest['count_num'] = df_finaltest.Text.progress_apply(lambda x: sum(n.isdigit() for n in x))"
   ]
  },
  {
   "cell_type": "code",
   "execution_count": 22,
   "id": "detected-minutes",
   "metadata": {},
   "outputs": [],
   "source": [
    "train_feature_matrix += [df_train.count_num.values]\n",
    "test_feature_matrix += [df_test.count_num.values]\n",
    "final_test_feature_matrix += [df_finaltest.count_num.values]"
   ]
  },
  {
   "cell_type": "code",
   "execution_count": 23,
   "id": "fabulous-oracle",
   "metadata": {},
   "outputs": [
    {
     "name": "stdout",
     "output_type": "stream",
     "text": [
      "(248493, 31) (5599, 31) (552735, 31)\n"
     ]
    }
   ],
   "source": [
    "train_feature_matrix = np.array(train_feature_matrix).T\n",
    "test_feature_matrix = np.array(test_feature_matrix).T\n",
    "final_test_feature_matrix = np.array(final_test_feature_matrix).T\n",
    "\n",
    "print(train_feature_matrix.shape, test_feature_matrix.shape, final_test_feature_matrix.shape)"
   ]
  },
  {
   "cell_type": "code",
   "execution_count": 24,
   "id": "double-casino",
   "metadata": {},
   "outputs": [],
   "source": [
    "X_train = df_train.prep\n",
    "X_test = df_test.prep\n",
    "y_train = df_train.Outcome\n",
    "y_test = df_test.Outcome"
   ]
  },
  {
   "cell_type": "markdown",
   "id": "hindu-breakdown",
   "metadata": {},
   "source": [
    "# On Vader Sentiment Analysis"
   ]
  },
  {
   "cell_type": "code",
   "execution_count": 33,
   "id": "grateful-transcript",
   "metadata": {},
   "outputs": [
    {
     "name": "stderr",
     "output_type": "stream",
     "text": [
      "100%|████████████████████████████████████████████████████████████████████████| 248493/248493 [01:40<00:00, 2484.76it/s]\n",
      "100%|████████████████████████████████████████████████████████████████████████| 552735/552735 [01:13<00:00, 7501.22it/s]\n"
     ]
    }
   ],
   "source": [
    "from nltk.sentiment.vader import SentimentIntensityAnalyzer\n",
    "\n",
    "sid = SentimentIntensityAnalyzer()\n",
    "df_train['compound'] = df_train['Text'].progress_apply\\\n",
    "                            (lambda x: sid.polarity_scores(x)['compound'])\n",
    "df_test['compound'] = df_test['Text'].progress_apply\\\n",
    "                            (lambda x: sid.polarity_scores(x)['compound'])\n",
    "df_finaltest['compound'] = df_finaltest['Text'].progress_apply\\\n",
    "                            (lambda x: sid.polarity_scores(x)['compound'])"
   ]
  },
  {
   "cell_type": "code",
   "execution_count": 35,
   "id": "official-bidder",
   "metadata": {},
   "outputs": [
    {
     "data": {
      "image/png": "[encoded data removed]",
      "text/plain": [
       "<Figure size 432x288 with 1 Axes>"
      ]
     },
     "metadata": {
      "needs_background": "light"
     },
     "output_type": "display_data"
    }
   ],
   "source": [
    "sns.boxplot(x=\"Outcome\", y=\"compound\", data=df_train)\n",
    "plt.show()"
   ]
  },
  {
   "cell_type": "code",
   "execution_count": 36,
   "id": "french-lecture",
   "metadata": {},
   "outputs": [
    {
     "data": {
      "text/plain": [
       "<matplotlib.legend.Legend at 0x1c3935b2348>"
      ]
     },
     "execution_count": 36,
     "metadata": {},
     "output_type": "execute_result"
    },
    {
     "data": {
      "image/png": "[encoded data removed]",
      "text/plain": [
       "<Figure size 432x288 with 1 Axes>"
      ]
     },
     "metadata": {
      "needs_background": "light"
     },
     "output_type": "display_data"
    }
   ],
   "source": [
    "for x in df_train.Outcome.unique():\n",
    "    sns.distplot(df_train.loc[df_train['Outcome']==x,'compound'], hist=False, kde=True, kde_kws={'shade':True},label=x, axlabel=\"density\")\n",
    "plt.legend()"
   ]
  },
  {
   "cell_type": "markdown",
   "id": "hollywood-findings",
   "metadata": {},
   "source": [
    "# 2.3. Feature Engineering Addition"
   ]
  },
  {
   "cell_type": "code",
   "execution_count": 26,
   "id": "applicable-ozone",
   "metadata": {},
   "outputs": [
    {
     "data": {
      "text/plain": [
       "((248493, 31), (552735, 31))"
      ]
     },
     "execution_count": 26,
     "metadata": {},
     "output_type": "execute_result"
    }
   ],
   "source": [
    "train_feature_matrix.shape, final_test_feature_matrix.shape"
   ]
  },
  {
   "cell_type": "markdown",
   "id": "lasting-brighton",
   "metadata": {},
   "source": [
    "# 2.4 Vectorizer"
   ]
  },
  {
   "cell_type": "code",
   "execution_count": 27,
   "id": "minimal-street",
   "metadata": {},
   "outputs": [],
   "source": [
    "from sklearn.feature_extraction.text import CountVectorizer, TfidfVectorizer\n",
    "\n",
    "vectorizer = TfidfVectorizer(min_df = 2, max_df = 1.0, ngram_range = (1,2))\n",
    "# vectorizer = CountVectorizer(stop_words = 'english', min_df = 2)\n",
    "X_train_vec = vectorizer.fit_transform(df_train.prep)\n",
    "X_test_vec = vectorizer.transform(df_test.prep)"
   ]
  },
  {
   "cell_type": "code",
   "execution_count": 28,
   "id": "brazilian-villa",
   "metadata": {},
   "outputs": [
    {
     "data": {
      "text/plain": [
       "((248493, 725659), (5599, 725659))"
      ]
     },
     "execution_count": 28,
     "metadata": {},
     "output_type": "execute_result"
    }
   ],
   "source": [
    "X_train_vec.shape, X_test_vec.shape"
   ]
  },
  {
   "cell_type": "markdown",
   "id": "recognized-coach",
   "metadata": {},
   "source": [
    "# 2.5 Combining Vectorizer & Feature Engineering Addition"
   ]
  },
  {
   "cell_type": "code",
   "execution_count": 29,
   "id": "interested-domain",
   "metadata": {},
   "outputs": [],
   "source": [
    "from sklearn.preprocessing import MinMaxScaler\n",
    "\n",
    "scaler = MinMaxScaler()\n",
    "train_feature_matrix_scaled = scaler.fit_transform(train_feature_matrix)\n",
    "test_feature_matrix_scaled = scaler.transform(test_feature_matrix)"
   ]
  },
  {
   "cell_type": "code",
   "execution_count": 30,
   "id": "public-deposit",
   "metadata": {},
   "outputs": [
    {
     "name": "stdout",
     "output_type": "stream",
     "text": [
      "Shape of train data : (248493, 725690)\n",
      "Shape of test data : (5599, 725690)\n"
     ]
    }
   ],
   "source": [
    "from scipy.sparse import hstack\n",
    "\n",
    "X_train_feature = hstack([X_train_vec, train_feature_matrix_scaled])\n",
    "print('Shape of train data :',X_train_feature.shape)\n",
    "\n",
    "X_test_feature = hstack([X_test_vec, test_feature_matrix_scaled])\n",
    "print('Shape of test data :',X_test_feature.shape) "
   ]
  },
  {
   "cell_type": "markdown",
   "id": "nervous-multiple",
   "metadata": {},
   "source": [
    "# 2.6 Oversampling (SMOTE)"
   ]
  },
  {
   "cell_type": "code",
   "execution_count": 32,
   "id": "bound-finish",
   "metadata": {},
   "outputs": [],
   "source": [
    "from imblearn.over_sampling import RandomOverSampler\n",
    "\n",
    "ros = RandomOverSampler(sampling_strategy='minority')\n",
    "X_ros, y_ros = ros.fit_resample(X_train_feature, y_train)"
   ]
  },
  {
   "cell_type": "code",
   "execution_count": 33,
   "id": "precious-prince",
   "metadata": {},
   "outputs": [],
   "source": [
    "from imblearn.over_sampling import SMOTE\n",
    "from sklearn.feature_extraction.text import CountVectorizer\n",
    "\n",
    "#Define TF-IDF Vectorizer\n",
    "# vectorizer = CountVectorizer(stop_words='english', min_df = 2)\n",
    "# X_train_vec = vectorizer.fit_transform(X_train)\n",
    "# X_test_vec = vectorizer.transform(X_test)\n",
    "\n",
    "sm = SMOTE()\n",
    "X_SMOTE, y_SMOTE = sm.fit_resample(X_train_feature, y_train)"
   ]
  },
  {
   "cell_type": "markdown",
   "id": "sonic-consumer",
   "metadata": {},
   "source": [
    "**Information:**\n",
    "\n",
    "train: X_SMOTE, y_SMOTE\n",
    "\n",
    "test: X_test_feature, y_test"
   ]
  },
  {
   "cell_type": "markdown",
   "id": "prescribed-barbados",
   "metadata": {},
   "source": [
    "# 3.0 Model"
   ]
  },
  {
   "cell_type": "markdown",
   "id": "lightweight-proposition",
   "metadata": {},
   "source": [
    "## 3.1 Logistic Regression"
   ]
  },
  {
   "cell_type": "code",
   "execution_count": 44,
   "id": "parliamentary-bidding",
   "metadata": {},
   "outputs": [
    {
     "name": "stderr",
     "output_type": "stream",
     "text": [
      "C:\\Users\\tommy\\anaconda3\\envs\\python3.7\\lib\\site-packages\\sklearn\\linear_model\\_logistic.py:765: ConvergenceWarning: lbfgs failed to converge (status=1):\n",
      "STOP: TOTAL NO. of ITERATIONS REACHED LIMIT.\n",
      "\n",
      "Increase the number of iterations (max_iter) or scale the data as shown in:\n",
      "    https://scikit-learn.org/stable/modules/preprocessing.html\n",
      "Please also refer to the documentation for alternative solver options:\n",
      "    https://scikit-learn.org/stable/modules/linear_model.html#logistic-regression\n",
      "  extra_warning_msg=_LOGISTIC_SOLVER_CONVERGENCE_MSG)\n"
     ]
    }
   ],
   "source": [
    "from sklearn.linear_model import LogisticRegression\n",
    "from sklearn.model_selection import RandomizedSearchCV\n",
    "from imblearn.over_sampling import SMOTE\n",
    "\n",
    "sm = SMOTE()\n",
    "X_SMOTE_vec, y_SMOTE_vec = sm.fit_resample(X_train_vec, y_train)\n",
    "\n",
    "lr = LogisticRegression(C = 1e5)\n",
    "lr.fit(X_SMOTE_vec, y_SMOTE_vec)\n",
    "lr_pred = lr.predict(X_test_vec)"
   ]
  },
  {
   "cell_type": "code",
   "execution_count": 46,
   "id": "complex-demonstration",
   "metadata": {},
   "outputs": [
    {
     "name": "stdout",
     "output_type": "stream",
     "text": [
      "0.87\n",
      "[[318   0   1   1   0   0   0   0  28   0   0   0   0   2   0   0]\n",
      " [  0 327   1   3   0   1   0   1   0   6   4   0   1   4   0   2]\n",
      " [  3   2 313  19   0   3   0   1   1   5   0   1   1   1   0   0]\n",
      " [  2   0  25 303   1   2   0   0   5   6   0   2   1   2   0   1]\n",
      " [  0   1   0   0 298   6   0   5   0   3   1   1  24   5   2   4]\n",
      " [  1   0   3   1   0 321   0   0   3   2   2   1  12   2   1   1]\n",
      " [  1   7   1   0   1   6 249   6   2   8   4   8  11   3  23  19]\n",
      " [  1   2   0   0   4   2   0 281   0  13  40   1   1   0   1   4]\n",
      " [ 19   1   2   1   0   0   0   0 320   2   0   1   0   4   0   0]\n",
      " [  0   1   4   6   1   6   0   6   1 311   7   2   2   0   1   2]\n",
      " [  0   3   3   2   3   0   0  68   2  11 252   0   2   1   0   3]\n",
      " [  0   4   2   0   0   6   1   1   5   8   1 319   0   1   1   1]\n",
      " [  0   0   0   0  11  17   0   0   1   4   2   0 300   0  15   0]\n",
      " [  2   0   0   2   2   0   0   0   2   1   0   1   0 338   2   0]\n",
      " [  0   1   0   0   0   1   2   0   0   2   1   0   8   6 329   0]\n",
      " [  3  17   0   1   2   2   3   2   2   7   9   0   2   0   2 298]]\n",
      "              precision    recall  f1-score   support\n",
      "\n",
      "           0       0.91      0.91      0.91       350\n",
      "           1       0.89      0.93      0.91       350\n",
      "           2       0.88      0.89      0.89       350\n",
      "           3       0.89      0.87      0.88       350\n",
      "           4       0.92      0.85      0.89       350\n",
      "           5       0.86      0.92      0.89       350\n",
      "           6       0.98      0.71      0.82       349\n",
      "           7       0.76      0.80      0.78       350\n",
      "           8       0.86      0.91      0.89       350\n",
      "           9       0.80      0.89      0.84       350\n",
      "          10       0.78      0.72      0.75       350\n",
      "          11       0.95      0.91      0.93       350\n",
      "          12       0.82      0.86      0.84       350\n",
      "          13       0.92      0.97      0.94       350\n",
      "          14       0.87      0.94      0.91       350\n",
      "          15       0.89      0.85      0.87       350\n",
      "\n",
      "    accuracy                           0.87      5599\n",
      "   macro avg       0.87      0.87      0.87      5599\n",
      "weighted avg       0.87      0.87      0.87      5599\n",
      "\n"
     ]
    }
   ],
   "source": [
    "from sklearn.metrics import confusion_matrix, accuracy_score, classification_report\n",
    "\n",
    "#Printing of metrics\n",
    "print(round(accuracy_score(y_test, lr_pred),2))\n",
    "print(confusion_matrix(y_test, lr_pred))\n",
    "print(classification_report(y_test, lr_pred))"
   ]
  },
  {
   "cell_type": "markdown",
   "id": "detected-westminster",
   "metadata": {},
   "source": [
    "**Logistic Regression with sentiment analysis from Vader**"
   ]
  },
  {
   "cell_type": "code",
   "execution_count": 52,
   "id": "quarterly-being",
   "metadata": {},
   "outputs": [
    {
     "name": "stdout",
     "output_type": "stream",
     "text": [
      "Shape of train data : (248493, 725782)\n",
      "Shape of test data : (5599, 725782)\n"
     ]
    },
    {
     "name": "stderr",
     "output_type": "stream",
     "text": [
      "C:\\Users\\tommy\\anaconda3\\envs\\python3.7\\lib\\site-packages\\sklearn\\linear_model\\_logistic.py:765: ConvergenceWarning: lbfgs failed to converge (status=1):\n",
      "STOP: TOTAL NO. of ITERATIONS REACHED LIMIT.\n",
      "\n",
      "Increase the number of iterations (max_iter) or scale the data as shown in:\n",
      "    https://scikit-learn.org/stable/modules/preprocessing.html\n",
      "Please also refer to the documentation for alternative solver options:\n",
      "    https://scikit-learn.org/stable/modules/linear_model.html#logistic-regression\n",
      "  extra_warning_msg=_LOGISTIC_SOLVER_CONVERGENCE_MSG)\n"
     ]
    }
   ],
   "source": [
    "from sklearn.linear_model import LogisticRegression\n",
    "from sklearn.model_selection import RandomizedSearchCV\n",
    "\n",
    "from scipy.sparse import hstack\n",
    "\n",
    "vader_feature_train = df_train.compound.values.reshape(-1,1)\n",
    "vader_feature_test = df_test.compound.values.reshape(-1,1)\n",
    "X_train_vader = hstack([X_train_vec, vader_feature_train])\n",
    "X_test_vader = hstack([X_test_vec, vader_feature_test])\n",
    "\n",
    "print('Shape of train data :',X_train_vader.shape)\n",
    "print('Shape of test data :',X_test_vader.shape) \n",
    "\n",
    "sm = SMOTE()\n",
    "X_SMOTE_vader, y_SMOTE_vader = sm.fit_resample(X_train_vader, y_train)\n",
    "\n",
    "lr = LogisticRegression(C = 1e5)\n",
    "lr.fit(X_SMOTE_vader, y_SMOTE_vader)\n",
    "lr_pred = lr.predict(X_test_vader)"
   ]
  },
  {
   "cell_type": "code",
   "execution_count": 53,
   "id": "amazing-frederick",
   "metadata": {},
   "outputs": [
    {
     "name": "stdout",
     "output_type": "stream",
     "text": [
      "0.87\n",
      "[[313   0   1   1   0   0   0   0  34   0   0   0   0   1   0   0]\n",
      " [  1 326   1   2   0   2   0   2   0   4   3   0   2   3   0   4]\n",
      " [  2   2 311  19   0   2   0   2   2   6   1   0   1   1   1   0]\n",
      " [  2   0  15 311   1   2   0   0   4   9   0   2   1   1   0   2]\n",
      " [  0   1   0   0 299   6   0   5   0   2   2   1  23   4   2   5]\n",
      " [  1   0   3   2   0 322   1   0   2   2   2   0  11   1   2   1]\n",
      " [  0   5   1   0   0   4 280   4   2   2   1   5   9   1  22  13]\n",
      " [  1   2   0   0   4   2   0 272   0   9  52   1   1   0   1   5]\n",
      " [ 18   1   2   1   0   0   0   0 319   3   0   1   0   4   0   1]\n",
      " [  0   2   4   6   1   3   1  12   3 304   7   2   2   0   1   2]\n",
      " [  0   3   2   0   4   1   0  65   2  12 255   0   1   0   1   4]\n",
      " [  1   3   1   0   0   4   5   1   6   9   1 315   0   2   1   1]\n",
      " [  0   0   0   0   9  16   2   2   1   3   2   0 301   0  13   1]\n",
      " [  3   0   0   2   2   0   0   0   2   1   0   0   0 337   3   0]\n",
      " [  0   1   0   0   0   1   4   0   0   2   1   0  12   5 324   0]\n",
      " [  1  11   0   1   1   0   7   2   1   3  10   0   2   0   2 309]]\n",
      "              precision    recall  f1-score   support\n",
      "\n",
      "           0       0.91      0.89      0.90       350\n",
      "           1       0.91      0.93      0.92       350\n",
      "           2       0.91      0.89      0.90       350\n",
      "           3       0.90      0.89      0.89       350\n",
      "           4       0.93      0.85      0.89       350\n",
      "           5       0.88      0.92      0.90       350\n",
      "           6       0.93      0.80      0.86       349\n",
      "           7       0.74      0.78      0.76       350\n",
      "           8       0.84      0.91      0.88       350\n",
      "           9       0.82      0.87      0.84       350\n",
      "          10       0.76      0.73      0.74       350\n",
      "          11       0.96      0.90      0.93       350\n",
      "          12       0.82      0.86      0.84       350\n",
      "          13       0.94      0.96      0.95       350\n",
      "          14       0.87      0.93      0.90       350\n",
      "          15       0.89      0.88      0.89       350\n",
      "\n",
      "    accuracy                           0.87      5599\n",
      "   macro avg       0.88      0.87      0.87      5599\n",
      "weighted avg       0.88      0.87      0.87      5599\n",
      "\n"
     ]
    }
   ],
   "source": [
    "from sklearn.metrics import confusion_matrix, accuracy_score, classification_report\n",
    "\n",
    "#Printing of metrics\n",
    "print(round(accuracy_score(y_test, lr_pred),2))\n",
    "print(confusion_matrix(y_test, lr_pred))\n",
    "print(classification_report(y_test, lr_pred))"
   ]
  },
  {
   "cell_type": "markdown",
   "id": "described-supervisor",
   "metadata": {},
   "source": [
    "## 3.2 Linear SVC"
   ]
  },
  {
   "cell_type": "code",
   "execution_count": null,
   "id": "metric-tragedy",
   "metadata": {},
   "outputs": [],
   "source": [
    "from sklearn.svm import SVC\n",
    "\n",
    "svc = SVC()\n",
    "svc.fit(X_SMOTE, y_SMOTE)\n",
    "svc_pred = svc.predict(X_test_feature)"
   ]
  },
  {
   "cell_type": "code",
   "execution_count": null,
   "id": "mysterious-train",
   "metadata": {},
   "outputs": [],
   "source": [
    "from sklearn.metrics import confusion_matrix, accuracy_score, classification_report\n",
    "\n",
    "#Printing of metrics\n",
    "print(round(accuracy_score(y_test, svc_pred),2))\n",
    "print(confusion_matrix(y_test, svc_pred))\n",
    "print(classification_report(y_test, svc_pred))"
   ]
  },
  {
   "cell_type": "markdown",
   "id": "confused-calcium",
   "metadata": {},
   "source": [
    "# 3.3 Multinomial NB"
   ]
  },
  {
   "cell_type": "code",
   "execution_count": 65,
   "id": "special-obligation",
   "metadata": {},
   "outputs": [
    {
     "name": "stdout",
     "output_type": "stream",
     "text": [
      "(248493, 725781) (5599, 725781)\n",
      "0.89\n",
      "[[321   0   1   1   0   0   0   0  26   0   0   0   0   1   0   0]\n",
      " [  0 328   1   1   2   2   2   4   0   1   4   0   0   1   0   4]\n",
      " [  3   2 309  21   0   3   0   1   2   4   0   1   0   4   0   0]\n",
      " [  1   0  20 315   0   3   0   0   3   2   0   1   2   1   0   2]\n",
      " [  0   1   2   0 316   5   1   4   0   0   3   0  10   2   1   5]\n",
      " [  0   0   0   2   0 331   0   0   2   0   1   1   9   0   3   1]\n",
      " [  0   3   1   0   0   0 304   3   0   1   0   7   4   3   8  15]\n",
      " [  1   0   0   0   4   1   0 287   0   4  47   1   3   0   0   2]\n",
      " [ 22   1   1   0   0   1   0   0 320   0   0   1   0   4   0   0]\n",
      " [  1   1  10   4   1   4   0  15   1 299   6   0   3   2   1   2]\n",
      " [  1   2   1   1   1   0   0  64   1   8 265   0   2   0   0   4]\n",
      " [  1   2   2   0   0   2   4   0   5   5   0 324   0   1   1   3]\n",
      " [  0   0   0   0  14  19   2   3   0   1   2   0 296   0  13   0]\n",
      " [  1   0   4   1   1   0   0   0   4   0   0   0   0 338   1   0]\n",
      " [  0   0   0   0   2   2   5   0   1   0   1   0  12   5 321   1]\n",
      " [  0   5   1   1   1   0   6   3   1   0   5   1   0   0   2 324]]\n",
      "              precision    recall  f1-score   support\n",
      "\n",
      "           0       0.91      0.92      0.91       350\n",
      "           1       0.95      0.94      0.94       350\n",
      "           2       0.88      0.88      0.88       350\n",
      "           3       0.91      0.90      0.90       350\n",
      "           4       0.92      0.90      0.91       350\n",
      "           5       0.89      0.95      0.92       350\n",
      "           6       0.94      0.87      0.90       349\n",
      "           7       0.75      0.82      0.78       350\n",
      "           8       0.87      0.91      0.89       350\n",
      "           9       0.92      0.85      0.89       350\n",
      "          10       0.79      0.76      0.77       350\n",
      "          11       0.96      0.93      0.94       350\n",
      "          12       0.87      0.85      0.86       350\n",
      "          13       0.93      0.97      0.95       350\n",
      "          14       0.91      0.92      0.92       350\n",
      "          15       0.89      0.93      0.91       350\n",
      "\n",
      "    accuracy                           0.89      5599\n",
      "   macro avg       0.89      0.89      0.89      5599\n",
      "weighted avg       0.89      0.89      0.89      5599\n",
      "\n"
     ]
    }
   ],
   "source": [
    "print(X_train_vec.shape, X_test_vec.shape)\n",
    "\n",
    "from imblearn.over_sampling import SMOTE\n",
    "from sklearn.feature_extraction.text import CountVectorizer\n",
    "\n",
    "sm = SMOTE()\n",
    "X_SMOTE, y_SMOTE = sm.fit_resample(X_train_vec, y_train)\n",
    "\n",
    "from sklearn.naive_bayes import MultinomialNB\n",
    "\n",
    "nb = MultinomialNB(alpha = 0.04)\n",
    "nb.fit(X_SMOTE, y_SMOTE)\n",
    "nb_pred = nb.predict(X_test_vec)\n",
    "\n",
    "from sklearn.metrics import confusion_matrix, accuracy_score, classification_report\n",
    "\n",
    "#Printing of metrics\n",
    "print(round(accuracy_score(y_test, nb_pred),2))\n",
    "print(confusion_matrix(y_test, nb_pred))\n",
    "print(classification_report(y_test, nb_pred))"
   ]
  },
  {
   "cell_type": "code",
   "execution_count": 70,
   "id": "ecological-shame",
   "metadata": {},
   "outputs": [
    {
     "name": "stdout",
     "output_type": "stream",
     "text": [
      "Shape of train data : (248493, 725812)\n",
      "Shape of test data : (5599, 725812)\n",
      "0.89\n",
      "[[321   0   1   1   0   0   0   0  26   0   0   0   0   1   0   0]\n",
      " [  0 327   1   1   2   2   2   4   0   1   4   0   0   1   0   5]\n",
      " [  3   2 308  22   0   3   0   1   2   4   0   1   0   4   0   0]\n",
      " [  1   0  20 315   0   3   0   0   3   2   0   1   2   1   0   2]\n",
      " [  0   1   2   0 318   4   0   4   0   0   3   0  10   3   1   4]\n",
      " [  0   0   0   2   0 331   0   0   2   0   1   1   9   0   3   1]\n",
      " [  0   2   1   0   0   1 305   3   0   1   0   9   5   3   9  10]\n",
      " [  1   0   0   0   2   1   0 292   0   4  44   1   3   0   0   2]\n",
      " [ 22   1   1   0   0   1   0   0 320   0   0   1   0   4   0   0]\n",
      " [  1   1   9   3   2   4   0  15   1 300   6   0   3   2   1   2]\n",
      " [  1   2   1   1   1   0   0  61   1   8 268   0   2   0   0   4]\n",
      " [  1   2   2   0   0   2   3   0   4   5   0 326   0   1   1   3]\n",
      " [  0   0   0   0  15  19   2   3   0   1   2   0 294   0  14   0]\n",
      " [  1   0   4   1   1   0   0   0   4   0   0   0   0 338   1   0]\n",
      " [  0   0   0   0   2   2   5   0   1   0   1   0  12   5 321   1]\n",
      " [  0   5   1   1   1   0   7   3   1   0   5   0   1   0   2 323]]\n",
      "              precision    recall  f1-score   support\n",
      "\n",
      "           0       0.91      0.92      0.91       350\n",
      "           1       0.95      0.93      0.94       350\n",
      "           2       0.88      0.88      0.88       350\n",
      "           3       0.91      0.90      0.90       350\n",
      "           4       0.92      0.91      0.92       350\n",
      "           5       0.89      0.95      0.92       350\n",
      "           6       0.94      0.87      0.91       349\n",
      "           7       0.76      0.83      0.79       350\n",
      "           8       0.88      0.91      0.90       350\n",
      "           9       0.92      0.86      0.89       350\n",
      "          10       0.80      0.77      0.78       350\n",
      "          11       0.96      0.93      0.94       350\n",
      "          12       0.86      0.84      0.85       350\n",
      "          13       0.93      0.97      0.95       350\n",
      "          14       0.91      0.92      0.91       350\n",
      "          15       0.90      0.92      0.91       350\n",
      "\n",
      "    accuracy                           0.89      5599\n",
      "   macro avg       0.90      0.89      0.89      5599\n",
      "weighted avg       0.90      0.89      0.89      5599\n",
      "\n"
     ]
    }
   ],
   "source": [
    "X_train_vec.shape, X_test_vec.shape\n",
    "\n",
    "from scipy.sparse import hstack\n",
    "from imblearn.over_sampling import SMOTE\n",
    "from sklearn.feature_extraction.text import CountVectorizer\n",
    "from sklearn.preprocessing import MinMaxScaler\n",
    "\n",
    "scaler = MinMaxScaler()\n",
    "train_feature_matrix_scaled = scaler.fit_transform(train_feature_matrix)\n",
    "test_feature_matrix_scaled = scaler.transform(test_feature_matrix)\n",
    "\n",
    "X_train_feature = hstack([X_train_vec, train_feature_matrix_scaled])\n",
    "X_test_feature = hstack([X_test_vec, test_feature_matrix_scaled])\n",
    "print('Shape of train data :',X_train_feature.shape)\n",
    "print('Shape of test data :',X_test_feature.shape) \n",
    "\n",
    "sm = SMOTE()\n",
    "X_SMOTE, y_SMOTE = sm.fit_resample(X_train_feature, y_train)\n",
    "\n",
    "from sklearn.naive_bayes import MultinomialNB\n",
    "\n",
    "nb = MultinomialNB(alpha = 0.04)\n",
    "nb.fit(X_SMOTE, y_SMOTE)\n",
    "nb_pred = nb.predict(X_test_feature)\n",
    "\n",
    "from sklearn.metrics import confusion_matrix, accuracy_score, classification_report\n",
    "\n",
    "#Printing of metrics\n",
    "print(round(accuracy_score(y_test, nb_pred),2))\n",
    "print(confusion_matrix(y_test, nb_pred))\n",
    "print(classification_report(y_test, nb_pred))"
   ]
  },
  {
   "cell_type": "markdown",
   "id": "wicked-workplace",
   "metadata": {},
   "source": [
    "Random Over Sampling vs SMOTE"
   ]
  },
  {
   "cell_type": "code",
   "execution_count": 34,
   "id": "accessible-prophet",
   "metadata": {},
   "outputs": [
    {
     "name": "stdout",
     "output_type": "stream",
     "text": [
      "0.9\n",
      "[[327   1   2   0   0   0   0   0  15   1   0   1   1   2   0   0]\n",
      " [  0 330   1   1   3   3   1   3   0   2   3   0   0   2   0   1]\n",
      " [  4   0 317  22   1   1   0   0   0   2   0   0   0   3   0   0]\n",
      " [  0   0  17 329   0   1   0   1   1   1   0   0   0   0   0   0]\n",
      " [  0   0   1   0 318   4   0   7   0   2   3   0  11   2   0   2]\n",
      " [  0   1   1   2   3 330   0   0   1   0   0   1   6   2   3   0]\n",
      " [  0   1   1   0   0   1 304   4   0   1   0   8   5   4   9  11]\n",
      " [  0   1   0   1   4   1   0 275   1   6  52   0   6   0   1   2]\n",
      " [ 14   1   4   3   1   0   0   0 321   0   0   1   0   4   1   0]\n",
      " [  1   5   9   4   6   3   4   6   0 294   7   1   3   3   1   3]\n",
      " [  0   1   0   1   3   0   1  58   0   7 272   1   2   0   1   3]\n",
      " [  0   2   2   3   0   0   4   0   3   5   0 322   0   4   3   2]\n",
      " [  0   0   0   1   8  11   3   2   0   1   2   0 313   2   7   0]\n",
      " [  2   0   5   0   0   0   0   0   1   0   0   0   1 341   0   0]\n",
      " [  1   1   0   0   1   3   4   4   0   2   2   1  14   3 314   0]\n",
      " [  0   5   0   1   0   0   5   3   1   1   6   1   0   0   1 326]]\n",
      "              precision    recall  f1-score   support\n",
      "\n",
      "           0       0.94      0.93      0.94       350\n",
      "           1       0.95      0.94      0.94       350\n",
      "           2       0.88      0.91      0.89       350\n",
      "           3       0.89      0.94      0.92       350\n",
      "           4       0.91      0.91      0.91       350\n",
      "           5       0.92      0.94      0.93       350\n",
      "           6       0.93      0.87      0.90       349\n",
      "           7       0.76      0.79      0.77       350\n",
      "           8       0.93      0.92      0.93       350\n",
      "           9       0.90      0.84      0.87       350\n",
      "          10       0.78      0.78      0.78       350\n",
      "          11       0.96      0.92      0.94       350\n",
      "          12       0.86      0.89      0.88       350\n",
      "          13       0.92      0.97      0.94       350\n",
      "          14       0.92      0.90      0.91       350\n",
      "          15       0.93      0.93      0.93       350\n",
      "\n",
      "    accuracy                           0.90      5599\n",
      "   macro avg       0.90      0.90      0.90      5599\n",
      "weighted avg       0.90      0.90      0.90      5599\n",
      "\n"
     ]
    }
   ],
   "source": [
    "from sklearn.naive_bayes import MultinomialNB\n",
    "\n",
    "nb = MultinomialNB(alpha = 0.04)\n",
    "nb.fit(X_SMOTE, y_SMOTE)\n",
    "nb_pred = nb.predict(X_test_feature)\n",
    "\n",
    "from sklearn.metrics import confusion_matrix, accuracy_score, classification_report\n",
    "\n",
    "#Printing of metrics\n",
    "print(round(accuracy_score(y_test, nb_pred),2))\n",
    "print(confusion_matrix(y_test, nb_pred))\n",
    "print(classification_report(y_test, nb_pred))"
   ]
  },
  {
   "cell_type": "code",
   "execution_count": 35,
   "id": "judicial-burlington",
   "metadata": {},
   "outputs": [
    {
     "name": "stdout",
     "output_type": "stream",
     "text": [
      "0.89\n",
      "[[327   1   2   0   0   0   0   0  16   1   0   0   1   2   0   0]\n",
      " [  0 332   1   1   2   3   1   4   0   3   0   0   0   2   0   1]\n",
      " [  4   0 321  18   0   2   0   0   0   2   0   0   0   3   0   0]\n",
      " [  0   0  24 322   0   1   0   1   1   1   0   0   0   0   0   0]\n",
      " [  0   0   1   0 284  11   1  18   0   4   3   0  23   4   0   1]\n",
      " [  0   1   1   2   0 331   0   0   1   0   0   0   8   3   3   0]\n",
      " [  0   2   1   0   0   1 322   4   0   1   0   2   5   2   9   0]\n",
      " [  0   1   0   0   0   2   1 296   1   7  35   0   6   0   1   0]\n",
      " [ 14   1   4   3   0   0   0   0 322   0   0   1   0   4   1   0]\n",
      " [  1   5  10   3   1   3   4   8   0 304   4   0   3   3   1   0]\n",
      " [  1   2   1   1   0   0   1  79   0  10 251   0   2   0   1   1]\n",
      " [  0   2   6   4   0   2   9   0   8   6   0 302   1   4   4   2]\n",
      " [  0   0   0   1   1  12   2   2   0   2   1   0 320   2   7   0]\n",
      " [  2   0   5   0   0   0   0   0   1   0   0   0   1 341   0   0]\n",
      " [  1   1   0   0   0   3   4   5   1   2   0   0  14   3 316   0]\n",
      " [  0  23   0   3   0   0  25  10   1   5  10   0   0   0   1 272]]\n",
      "              precision    recall  f1-score   support\n",
      "\n",
      "           0       0.93      0.93      0.93       350\n",
      "           1       0.89      0.95      0.92       350\n",
      "           2       0.85      0.92      0.88       350\n",
      "           3       0.90      0.92      0.91       350\n",
      "           4       0.99      0.81      0.89       350\n",
      "           5       0.89      0.95      0.92       350\n",
      "           6       0.87      0.92      0.90       349\n",
      "           7       0.69      0.85      0.76       350\n",
      "           8       0.91      0.92      0.92       350\n",
      "           9       0.87      0.87      0.87       350\n",
      "          10       0.83      0.72      0.77       350\n",
      "          11       0.99      0.86      0.92       350\n",
      "          12       0.83      0.91      0.87       350\n",
      "          13       0.91      0.97      0.94       350\n",
      "          14       0.92      0.90      0.91       350\n",
      "          15       0.98      0.78      0.87       350\n",
      "\n",
      "    accuracy                           0.89      5599\n",
      "   macro avg       0.89      0.89      0.89      5599\n",
      "weighted avg       0.89      0.89      0.89      5599\n",
      "\n"
     ]
    }
   ],
   "source": [
    "from sklearn.naive_bayes import MultinomialNB\n",
    "\n",
    "nb = MultinomialNB(alpha = 0.04)\n",
    "nb.fit(X_ros, y_ros)\n",
    "nb_pred = nb.predict(X_test_feature)\n",
    "\n",
    "from sklearn.metrics import confusion_matrix, accuracy_score, classification_report\n",
    "\n",
    "#Printing of metrics\n",
    "print(round(accuracy_score(y_test, nb_pred),2))\n",
    "print(confusion_matrix(y_test, nb_pred))\n",
    "print(classification_report(y_test, nb_pred))"
   ]
  },
  {
   "cell_type": "markdown",
   "id": "martial-procurement",
   "metadata": {},
   "source": [
    "# 3.4 TF-IDF vs Count_Vectorizer"
   ]
  },
  {
   "cell_type": "markdown",
   "id": "facial-merit",
   "metadata": {},
   "source": [
    "**Count Vectorizer**"
   ]
  },
  {
   "cell_type": "code",
   "execution_count": 78,
   "id": "latin-awareness",
   "metadata": {},
   "outputs": [],
   "source": [
    "X_train = df_train.prep.loc[index_train]\n",
    "X_test = df_test.prep.loc[index_test]\n",
    "\n",
    "params = {'clf__alpha': [0.01, 0.1, 1],\n",
    "#           'tfidf__use_idf': [True, False],\n",
    "          'vect__min_df': [1, 2, 3],\n",
    "          'vect__max_df': [0.5, 0.75, 1.0],\n",
    "          'vect__ngram_range' : [(1,1), (1,2), (1,3)]}\n",
    "\n",
    "from sklearn.pipeline import Pipeline\n",
    "from sklearn.feature_extraction.text import CountVectorizer, TfidfTransformer, TfidfVectorizer\n",
    "\n",
    "pipeline = Pipeline([\n",
    "    ('vect', CountVectorizer()),\n",
    "    ('clf', MultinomialNB()),\n",
    "])"
   ]
  },
  {
   "cell_type": "code",
   "execution_count": null,
   "id": "statutory-recall",
   "metadata": {},
   "outputs": [],
   "source": [
    "random_search = RandomizedSearchCV(pipeline, params, cv = 5, scoring = 'f1_macro', random_state=42)\n",
    "random_search.fit(X_train, y_train)\n",
    "random_search.best_params_"
   ]
  },
  {
   "cell_type": "code",
   "execution_count": null,
   "id": "quarterly-saying",
   "metadata": {},
   "outputs": [],
   "source": [
    "params = {'clf__alpha': [0.01, 0.1, 1],\n",
    "          'tfidf__use_idf': [True, False],\n",
    "          'vect__min_df': [1, 2, 3],\n",
    "          'vect__max_df': [0.5, 0.75, 1.0],\n",
    "          'vect__ngram_range' : [(1,1), (1,2), (1,3)]}\n",
    "\n",
    "from sklearn.pipeline import Pipeline\n",
    "from sklearn.feature_extraction.text import CountVectorizer, TfidfTransformer, TfidfVectorizer\n",
    "\n",
    "pipeline = Pipeline([\n",
    "    ('vect', TfidfVectorizer()),\n",
    "    ('clf', MultinomialNB()),\n",
    "])"
   ]
  },
  {
   "cell_type": "code",
   "execution_count": 53,
   "id": "inner-advantage",
   "metadata": {},
   "outputs": [
    {
     "data": {
      "text/plain": [
       "{'vect__ngram_range': (1, 2),\n",
       " 'vect__min_df': 1,\n",
       " 'vect__max_df': 0.5,\n",
       " 'tfidf__use_idf': True,\n",
       " 'clf__alpha': 0.01}"
      ]
     },
     "execution_count": 53,
     "metadata": {},
     "output_type": "execute_result"
    }
   ],
   "source": [
    "random_search = RandomizedSearchCV(pipeline, params, cv = 5, scoring = 'f1_macro')\n",
    "random_search.fit(X_train, y_train)\n",
    "random_search.best_params_"
   ]
  },
  {
   "cell_type": "markdown",
   "id": "complicated-cookbook",
   "metadata": {},
   "source": [
    "## TFIDF"
   ]
  },
  {
   "cell_type": "code",
   "execution_count": 44,
   "id": "charming-possession",
   "metadata": {},
   "outputs": [
    {
     "data": {
      "text/plain": [
       "(143319, 15043)"
      ]
     },
     "execution_count": 44,
     "metadata": {},
     "output_type": "execute_result"
    }
   ],
   "source": [
    "len(X_test), len(y_test)"
   ]
  },
  {
   "cell_type": "code",
   "execution_count": 40,
   "id": "recognized-cathedral",
   "metadata": {},
   "outputs": [],
   "source": [
    "from sklearn.pipeline import Pipeline\n",
    "from sklearn.feature_extraction.text import CountVectorizer, TfidfTransformer, TfidfVectorizer\n",
    "\n",
    "\n",
    "pipeline = Pipeline([\n",
    "    ('vect', CountVectorizer(min_df = 2, \n",
    "                             max_df = 1.0,\n",
    "                             ngram_range = (1,2))),\n",
    "    ('tfidf', TfidfTransformer(use_idf = True)),\n",
    "    ('clf', MultinomialNB(alpha = 0.01)),\n",
    "])\n",
    "pipeline.fit(X_train, y_train)\n",
    "pipe_pred = pipeline.predict(X_test)"
   ]
  },
  {
   "cell_type": "code",
   "execution_count": 41,
   "id": "removed-regard",
   "metadata": {},
   "outputs": [
    {
     "name": "stdout",
     "output_type": "stream",
     "text": [
      "0.89\n",
      "[[325   1   3   0   0   0   0   0  16   1   0   0   2   2   0   0]\n",
      " [  0 332   0   2   2   4   0   3   0   3   2   0   0   1   0   1]\n",
      " [  3   0 319  20   0   2   0   0   0   2   1   0   0   3   0   0]\n",
      " [  0   0  23 322   0   2   0   1   1   1   0   0   0   0   0   0]\n",
      " [  0   1   1   0 302   5   0  12   0   4   3   0  18   2   0   2]\n",
      " [  0   1   1   2   1 331   0   0   1   0   0   1   8   2   2   0]\n",
      " [  0   6   2   1   0   2 256   4   0   5   2  10  15   7  22  17]\n",
      " [  0   1   0   0   0   2   0 290   1   6  43   0   6   0   1   0]\n",
      " [ 15   1   4   2   0   0   0   0 322   0   0   1   0   4   1   0]\n",
      " [  2   5  10   5   3   2   0   8   1 300   5   0   4   3   2   0]\n",
      " [  1   2   1   1   1   0   0  73   0   8 260   0   1   0   1   1]\n",
      " [  0   2   6   4   0   1   1   0   4   5   0 316   1   4   4   2]\n",
      " [  0   0   0   1   5  12   0   2   0   1   2   0 318   1   8   0]\n",
      " [  1   0   4   0   0   0   0   0   1   0   0   0   1 343   0   0]\n",
      " [  1   1   0   0   0   4   1   5   1   2   0   0  15   3 317   0]\n",
      " [  0   8   0   1   0   0   3   5   1   3   9   1   0   0   0 319]]\n",
      "              precision    recall  f1-score   support\n",
      "\n",
      "           0       0.93      0.93      0.93       350\n",
      "           1       0.92      0.95      0.93       350\n",
      "           2       0.85      0.91      0.88       350\n",
      "           3       0.89      0.92      0.91       350\n",
      "           4       0.96      0.86      0.91       350\n",
      "           5       0.90      0.95      0.92       350\n",
      "           6       0.98      0.73      0.84       349\n",
      "           7       0.72      0.83      0.77       350\n",
      "           8       0.92      0.92      0.92       350\n",
      "           9       0.88      0.86      0.87       350\n",
      "          10       0.80      0.74      0.77       350\n",
      "          11       0.96      0.90      0.93       350\n",
      "          12       0.82      0.91      0.86       350\n",
      "          13       0.91      0.98      0.95       350\n",
      "          14       0.89      0.91      0.90       350\n",
      "          15       0.93      0.91      0.92       350\n",
      "\n",
      "    accuracy                           0.89      5599\n",
      "   macro avg       0.89      0.89      0.89      5599\n",
      "weighted avg       0.89      0.89      0.89      5599\n",
      "\n"
     ]
    }
   ],
   "source": [
    "from sklearn.metrics import confusion_matrix, accuracy_score, classification_report\n",
    "\n",
    "#Printing of metrics\n",
    "print(round(accuracy_score(y_test, pipe_pred),2))\n",
    "print(confusion_matrix(y_test, pipe_pred))\n",
    "print(classification_report(y_test, pipe_pred))"
   ]
  },
  {
   "cell_type": "markdown",
   "id": "sustained-saudi",
   "metadata": {},
   "source": [
    "# Count Vectorizer"
   ]
  },
  {
   "cell_type": "code",
   "execution_count": 38,
   "id": "regional-sugar",
   "metadata": {},
   "outputs": [],
   "source": [
    "pipeline = Pipeline([\n",
    "    ('vect', CountVectorizer(min_df = 3, \n",
    "                             max_df = 0.5,\n",
    "                             ngram_range = (1,2))),\n",
    "    ('tfidf', TfidfTransformer(use_idf = False)),\n",
    "    ('clf', MultinomialNB(alpha = 0.01)),\n",
    "])\n",
    "pipeline.fit(X_train, y_train)\n",
    "pipe_pred = pipeline.predict(X_test)"
   ]
  },
  {
   "cell_type": "code",
   "execution_count": 39,
   "id": "varied-apple",
   "metadata": {},
   "outputs": [
    {
     "name": "stdout",
     "output_type": "stream",
     "text": [
      "0.89\n",
      "[[326   1   2   0   0   0   0   0  18   0   0   0   1   2   0   0]\n",
      " [  0 331   1   1   2   3   0   3   0   3   3   0   0   2   0   1]\n",
      " [  4   0 321  17   0   2   0   0   0   2   0   0   0   4   0   0]\n",
      " [  0   0  23 320   0   1   0   2   3   1   0   0   0   0   0   0]\n",
      " [  0   1   1   0 305   5   0  15   0   3   2   0  13   3   0   2]\n",
      " [  0   0   1   2   0 331   0   0   2   0   0   0   9   3   2   0]\n",
      " [  0   6   2   1   0   4 256   5   0   5   2   7  15   6  23  17]\n",
      " [  0   1   0   1   1   1   0 282   1   7  48   0   6   0   2   0]\n",
      " [ 17   1   2   3   0   0   0   0 322   0   0   1   0   3   1   0]\n",
      " [  1   4   8   2   2   2   0   7   1 307   5   0   4   3   3   1]\n",
      " [  0   2   1   1   0   0   0  69   0  12 261   0   2   0   1   1]\n",
      " [  0   2   5   4   0   1   2   0   4   6   0 317   1   4   3   1]\n",
      " [  0   1   0   1   5  11   0   2   0   2   2   0 316   2   8   0]\n",
      " [  1   0   4   1   0   0   0   0   2   1   0   0   1 340   0   0]\n",
      " [  1   1   0   0   0   4   0   2   1   4   1   0  14   3 319   0]\n",
      " [  0  12   1   1   1   0   3   6   1   4   7   1   0   0   2 311]]\n",
      "              precision    recall  f1-score   support\n",
      "\n",
      "           0       0.93      0.93      0.93       350\n",
      "           1       0.91      0.95      0.93       350\n",
      "           2       0.86      0.92      0.89       350\n",
      "           3       0.90      0.91      0.91       350\n",
      "           4       0.97      0.87      0.92       350\n",
      "           5       0.91      0.95      0.93       350\n",
      "           6       0.98      0.73      0.84       349\n",
      "           7       0.72      0.81      0.76       350\n",
      "           8       0.91      0.92      0.91       350\n",
      "           9       0.86      0.88      0.87       350\n",
      "          10       0.79      0.75      0.77       350\n",
      "          11       0.97      0.91      0.94       350\n",
      "          12       0.83      0.90      0.86       350\n",
      "          13       0.91      0.97      0.94       350\n",
      "          14       0.88      0.91      0.89       350\n",
      "          15       0.93      0.89      0.91       350\n",
      "\n",
      "    accuracy                           0.89      5599\n",
      "   macro avg       0.89      0.89      0.89      5599\n",
      "weighted avg       0.89      0.89      0.89      5599\n",
      "\n"
     ]
    }
   ],
   "source": [
    "from sklearn.metrics import confusion_matrix, accuracy_score, classification_report\n",
    "\n",
    "#Printing of metrics\n",
    "print(round(accuracy_score(y_test, pipe_pred),2))\n",
    "print(confusion_matrix(y_test, pipe_pred))\n",
    "print(classification_report(y_test, pipe_pred))"
   ]
  },
  {
   "cell_type": "markdown",
   "id": "stock-gauge",
   "metadata": {},
   "source": [
    "# Try "
   ]
  },
  {
   "cell_type": "code",
   "execution_count": 43,
   "id": "rational-legend",
   "metadata": {},
   "outputs": [],
   "source": [
    "from sklearn.feature_extraction.text import TfidfVectorizer\n",
    "\n",
    "vectorizer = TfidfVectorizer(stop_words='english', min_df = 3, \n",
    "                             max_df = 0.5)\n",
    "X_train_vec = vectorizer.fit_transform(X.loc[index_train])\n",
    "X_test_vec = vectorizer.transform(X.loc[index_test])"
   ]
  },
  {
   "cell_type": "code",
   "execution_count": 44,
   "id": "consolidated-piano",
   "metadata": {},
   "outputs": [
    {
     "name": "stdout",
     "output_type": "stream",
     "text": [
      "Shape of train data : (294257, 52999)\n",
      "Shape of train data : (15043, 52999)\n"
     ]
    }
   ],
   "source": [
    "from scipy.sparse import hstack\n",
    "\n",
    "X_train_feature = hstack([X_train_vec, train_count])\n",
    "print('Shape of train data :',X_train_feature.shape)\n",
    "\n",
    "X_test_feature = hstack([X_test_vec, test_count])\n",
    "print('Shape of train data :',X_test_feature.shape) "
   ]
  },
  {
   "cell_type": "code",
   "execution_count": 45,
   "id": "prescription-performer",
   "metadata": {},
   "outputs": [],
   "source": [
    "from imblearn.over_sampling import SMOTE\n",
    "from sklearn.feature_extraction.text import CountVectorizer\n",
    "\n",
    "#Define TF-IDF Vectorizer\n",
    "# vectorizer = CountVectorizer(stop_words='english', min_df = 2)\n",
    "# X_train_vec = vectorizer.fit_transform(X_train)\n",
    "# X_test_vec = vectorizer.transform(X_test)\n",
    "\n",
    "sm = SMOTE()\n",
    "X_SMOTE, y_SMOTE = sm.fit_resample(X_train_feature, y_train)"
   ]
  },
  {
   "cell_type": "code",
   "execution_count": 46,
   "id": "reduced-assumption",
   "metadata": {},
   "outputs": [
    {
     "data": {
      "text/plain": [
       "{'alpha': 0.01}"
      ]
     },
     "execution_count": 46,
     "metadata": {},
     "output_type": "execute_result"
    }
   ],
   "source": [
    "from sklearn.naive_bayes import MultinomialNB\n",
    "from sklearn.model_selection import RandomizedSearchCV\n",
    "\n",
    "param_grid = [{'alpha': (1.0, 0.8, 0.6, 0.4, 0.2, 0.1, 0.01, 0.02, 0.04, 0.08)}]\n",
    "\n",
    "nb = MultinomialNB()\n",
    "random_search = RandomizedSearchCV(nb, param_grid, cv = 5, scoring = 'f1_macro')\n",
    "random_search.fit(X_SMOTE, y_SMOTE)\n",
    "random_search.best_params_"
   ]
  },
  {
   "cell_type": "code",
   "execution_count": 47,
   "id": "automotive-artist",
   "metadata": {},
   "outputs": [
    {
     "name": "stdout",
     "output_type": "stream",
     "text": [
      "0.82\n",
      "[[677   3  89  29   4   6   4   1 122   9   2  17   2  35   0   0]\n",
      " [  0 948   1   1   3  10   0   8   2   3   8   1   0   3   0  12]\n",
      " [  2   7 861  60   2   8   0   2  13  17   2   8   0  16   0   2]\n",
      " [  4   1  66 881   4   9   0   2   7  16   1   3   0   4   0   2]\n",
      " [  0   4   0   0 837   5   1  26   0   5  10   0  11  10   2   5]\n",
      " [  3   0   5  15  13 907   3   1   5  10   3   3  18   8   4   2]\n",
      " [  1   8   2   0   1   7 252   5   2   4   1  12   0   1  19  34]\n",
      " [  2   1   0   1  14   4   0 770   0  27 177   0   1   0   0   3]\n",
      " [ 70   4  71  30   2   6   2   1 712   9   0  34   2  49   3   5]\n",
      " [  6   4  29  19  15   9   3  32   7 831  26   5   3   5   0   6]\n",
      " [  2   7   5   4  12   3   1 195   1  27 723   5   2   1   0  12]\n",
      " [  2   4   4   2   0   4   9   3   8  18   0 936   2   2   1   5]\n",
      " [  1   7   1   3 137  90  10  34   2  15  17   6 599   4  73   1]\n",
      " [  4   8  13   5   6   6   2   1  14   4   0   5   2 926   2   2]\n",
      " [  7   4   1   1   8  34  47   9   2   5   6  11  64  36 755  10]\n",
      " [  0  20   3   1   1   2  13   9   5   1  11   2   0   1   0 709]]\n",
      "              precision    recall  f1-score   support\n",
      "\n",
      "           0       0.87      0.68      0.76      1000\n",
      "           1       0.92      0.95      0.93      1000\n",
      "           2       0.75      0.86      0.80      1000\n",
      "           3       0.84      0.88      0.86      1000\n",
      "           4       0.79      0.91      0.85       916\n",
      "           5       0.82      0.91      0.86      1000\n",
      "           6       0.73      0.72      0.72       349\n",
      "           7       0.70      0.77      0.73      1000\n",
      "           8       0.79      0.71      0.75      1000\n",
      "           9       0.83      0.83      0.83      1000\n",
      "          10       0.73      0.72      0.73      1000\n",
      "          11       0.89      0.94      0.91      1000\n",
      "          12       0.85      0.60      0.70      1000\n",
      "          13       0.84      0.93      0.88      1000\n",
      "          14       0.88      0.76      0.81      1000\n",
      "          15       0.88      0.91      0.89       778\n",
      "\n",
      "    accuracy                           0.82     15043\n",
      "   macro avg       0.82      0.82      0.81     15043\n",
      "weighted avg       0.82      0.82      0.82     15043\n",
      "\n"
     ]
    }
   ],
   "source": [
    "nb = MultinomialNB(alpha = 0.01)\n",
    "nb.fit(X_SMOTE, y_SMOTE)\n",
    "pred = nb.predict(X_test_feature)\n",
    "\n",
    "from sklearn.metrics import confusion_matrix, accuracy_score, classification_report\n",
    "\n",
    "#Printing of metrics\n",
    "print(round(accuracy_score(y_test, pred),2))\n",
    "print(confusion_matrix(y_test, pred))\n",
    "print(classification_report(y_test, pred))"
   ]
  },
  {
   "cell_type": "code",
   "execution_count": 48,
   "id": "configured-manual",
   "metadata": {},
   "outputs": [],
   "source": [
    "X_finaltest = df_test['prep']\n",
    "X_finaltest_vec = vectorizer.transform(X_finaltest)"
   ]
  },
  {
   "cell_type": "code",
   "execution_count": 49,
   "id": "bored-diving",
   "metadata": {},
   "outputs": [
    {
     "name": "stdout",
     "output_type": "stream",
     "text": [
      "Shape of train data : (552735, 52999)\n"
     ]
    }
   ],
   "source": [
    "final_test_count = df_test[['count_dot', 'count_apo', 'count_bracket', 'count_exc', \n",
    "                         'count_comma','count_apo', 'count_bracket', 'count_quote',\n",
    "                         'count_question', 'count_up']]\\\n",
    "                    .to_numpy()\n",
    "\n",
    "X_final_test_feature = hstack([X_finaltest_vec, final_test_count])\n",
    "print('Shape of train data :',X_final_test_feature.shape)"
   ]
  },
  {
   "cell_type": "code",
   "execution_count": 50,
   "id": "victorian-stone",
   "metadata": {},
   "outputs": [],
   "source": [
    "nb_final_pred = nb.predict(X_final_test_feature)\n",
    "\n",
    "pred_df = pd.DataFrame({'Id': df_test.Id, 'Outcome' :nb_final_pred}).set_index('Id', drop = True)\n",
    "\n",
    "pred_df.to_csv('submission26_tfidf_tuning.csv')"
   ]
  },
  {
   "cell_type": "markdown",
   "id": "present-raise",
   "metadata": {},
   "source": [
    "# 4.1 Final Main Model"
   ]
  },
  {
   "cell_type": "code",
   "execution_count": 43,
   "id": "built-crisis",
   "metadata": {},
   "outputs": [
    {
     "data": {
      "text/plain": [
       "{'alpha': 0.04}"
      ]
     },
     "execution_count": 43,
     "metadata": {},
     "output_type": "execute_result"
    }
   ],
   "source": [
    "from sklearn.naive_bayes import MultinomialNB\n",
    "from sklearn.model_selection import RandomizedSearchCV\n",
    "\n",
    "param_grid = [{'alpha': (1.0, 0.8, 0.6, 0.4, 0.2, 0.1, 0.01, 0.02, 0.04, 0.08)}]\n",
    "\n",
    "nb = MultinomialNB()\n",
    "random_search = RandomizedSearchCV(nb, param_grid, cv = 5, scoring = 'f1_macro')\n",
    "random_search.fit(X_SMOTE, y_SMOTE)\n",
    "random_search.best_params_"
   ]
  },
  {
   "cell_type": "code",
   "execution_count": 45,
   "id": "noticed-crash",
   "metadata": {},
   "outputs": [
    {
     "name": "stdout",
     "output_type": "stream",
     "text": [
      "0.9\n",
      "[[327   1   2   0   0   0   0   0  15   1   0   1   1   2   0   0]\n",
      " [  0 330   1   1   3   3   1   3   0   2   3   0   0   2   0   1]\n",
      " [  4   0 317  22   1   1   0   0   0   2   0   0   0   3   0   0]\n",
      " [  0   0  17 329   0   1   0   1   1   1   0   0   0   0   0   0]\n",
      " [  0   0   1   0 318   4   0   7   0   2   3   0  11   2   0   2]\n",
      " [  0   1   1   2   3 330   0   0   1   0   0   1   6   2   3   0]\n",
      " [  0   1   1   0   0   1 304   4   0   1   0   8   5   4   9  11]\n",
      " [  0   1   0   1   4   1   0 275   1   6  52   0   6   0   1   2]\n",
      " [ 14   1   4   3   1   0   0   0 321   0   0   1   0   4   1   0]\n",
      " [  1   5   9   4   6   3   4   6   0 294   7   1   3   3   1   3]\n",
      " [  0   1   0   1   3   0   1  58   0   7 272   1   2   0   1   3]\n",
      " [  0   2   2   3   0   0   4   0   3   5   0 322   0   4   3   2]\n",
      " [  0   0   0   1   8  11   3   2   0   1   2   0 313   2   7   0]\n",
      " [  2   0   5   0   0   0   0   0   1   0   0   0   1 341   0   0]\n",
      " [  1   1   0   0   1   3   4   4   0   2   2   1  14   3 314   0]\n",
      " [  0   5   0   1   0   0   5   3   1   1   6   1   0   0   1 326]]\n",
      "              precision    recall  f1-score   support\n",
      "\n",
      "           0       0.94      0.93      0.94       350\n",
      "           1       0.95      0.94      0.94       350\n",
      "           2       0.88      0.91      0.89       350\n",
      "           3       0.89      0.94      0.92       350\n",
      "           4       0.91      0.91      0.91       350\n",
      "           5       0.92      0.94      0.93       350\n",
      "           6       0.93      0.87      0.90       349\n",
      "           7       0.76      0.79      0.77       350\n",
      "           8       0.93      0.92      0.93       350\n",
      "           9       0.90      0.84      0.87       350\n",
      "          10       0.78      0.78      0.78       350\n",
      "          11       0.96      0.92      0.94       350\n",
      "          12       0.86      0.89      0.88       350\n",
      "          13       0.92      0.97      0.94       350\n",
      "          14       0.92      0.90      0.91       350\n",
      "          15       0.93      0.93      0.93       350\n",
      "\n",
      "    accuracy                           0.90      5599\n",
      "   macro avg       0.90      0.90      0.90      5599\n",
      "weighted avg       0.90      0.90      0.90      5599\n",
      "\n"
     ]
    }
   ],
   "source": [
    "nb = MultinomialNB(alpha = 0.04)\n",
    "nb.fit(X_SMOTE, y_SMOTE)\n",
    "pred = nb.predict(X_test_feature)\n",
    "\n",
    "from sklearn.metrics import confusion_matrix, accuracy_score, classification_report\n",
    "\n",
    "#Printing of metrics\n",
    "print(round(accuracy_score(y_test, pred),2))\n",
    "print(confusion_matrix(y_test, pred))\n",
    "print(classification_report(y_test, pred))"
   ]
  },
  {
   "cell_type": "markdown",
   "id": "constitutional-pendant",
   "metadata": {},
   "source": [
    "# 4.2 Double Multinomial NB"
   ]
  },
  {
   "cell_type": "markdown",
   "id": "textile-sacramento",
   "metadata": {},
   "source": [
    "### Model 7 and 10"
   ]
  },
  {
   "cell_type": "code",
   "execution_count": 92,
   "id": "veterinary-placement",
   "metadata": {},
   "outputs": [
    {
     "data": {
      "text/plain": [
       "613769    In the Deadpool movie (2016), there's a bettin...\n",
       "483039    All I remember is a young boy who somehow mana...\n",
       "578226      What does this line mean in the Watchmen movie?\n",
       "476369    short story written pre 1975. future world whe...\n",
       "564925    Why was the Rebel Blockade Runner so close to ...\n",
       "                                ...                        \n",
       "498927    In [What Dreams May Come][1], Robin William's ...\n",
       "357264                What is the girl Callie trying to do?\n",
       "554998       When did Pebbles and Bamm-Bamm get introduced?\n",
       "282021    Movie with different stories about the Ten Com...\n",
       "329660    In Casino Royale, the CIA guy offers to stake ...\n",
       "Name: Text, Length: 33653, dtype: object"
      ]
     },
     "execution_count": 92,
     "metadata": {},
     "output_type": "execute_result"
    }
   ],
   "source": [
    "X_train_710"
   ]
  },
  {
   "cell_type": "code",
   "execution_count": 61,
   "id": "beautiful-watershed",
   "metadata": {},
   "outputs": [],
   "source": [
    "id_train_710 = y_train[y_train.isin([7,10])].index\n",
    "id_test_710 = y_test[y_test.isin([7,10])].index\n",
    "\n",
    "\n",
    "X_train_710 = df_train.prep[id_train_710]\n",
    "y_train_710 = y_train[id_train_710]\n",
    "X_test_710 = df_test.prep[id_test_710]\n",
    "y_test_710 = y_test[id_test_710]\n",
    "\n",
    "vectorizer_710 = TfidfVectorizer(min_df = 1, max_df = 1.0, ngram_range = (1,3))\n",
    "X_train_vec_710 = vectorizer_710.fit_transform(X_train_710)\n",
    "X_test_vec_710 = vectorizer_710.transform(X_test_710)"
   ]
  },
  {
   "cell_type": "code",
   "execution_count": 52,
   "id": "commercial-strengthening",
   "metadata": {},
   "outputs": [
    {
     "data": {
      "text/plain": [
       "{'vect__ngram_range': (1, 3),\n",
       " 'vect__min_df': 1,\n",
       " 'vect__max_features': None,\n",
       " 'vect__max_df': 1.0,\n",
       " 'tfidf__use_idf': True,\n",
       " 'clf__alpha': 0.1}"
      ]
     },
     "execution_count": 52,
     "metadata": {},
     "output_type": "execute_result"
    }
   ],
   "source": [
    "random_search = RandomizedSearchCV(pipeline2, params, cv = 5, scoring = 'f1_macro', random_state = 1234)\n",
    "random_search.fit(X_train_710, y_train_710)\n",
    "random_search.best_params_"
   ]
  },
  {
   "cell_type": "code",
   "execution_count": 62,
   "id": "dedicated-ghana",
   "metadata": {},
   "outputs": [],
   "source": [
    "from sklearn.pipeline import Pipeline\n",
    "from sklearn.feature_extraction.text import CountVectorizer, TfidfTransformer, TfidfVectorizer\n",
    "\n",
    "nb = MultinomialNB(alpha = 0.1)\n",
    "nb.fit(X_train_vec_710, y_train_710)\n",
    "nb_pred_710 = nb.predict(X_test_vec_710 )"
   ]
  },
  {
   "cell_type": "code",
   "execution_count": 63,
   "id": "appropriate-crown",
   "metadata": {},
   "outputs": [
    {
     "name": "stdout",
     "output_type": "stream",
     "text": [
      "0.84\n",
      "[[330  20]\n",
      " [ 89 261]]\n",
      "              precision    recall  f1-score   support\n",
      "\n",
      "           7       0.79      0.94      0.86       350\n",
      "          10       0.93      0.75      0.83       350\n",
      "\n",
      "    accuracy                           0.84       700\n",
      "   macro avg       0.86      0.84      0.84       700\n",
      "weighted avg       0.86      0.84      0.84       700\n",
      "\n"
     ]
    }
   ],
   "source": [
    "from sklearn.metrics import confusion_matrix, accuracy_score, classification_report\n",
    "\n",
    "#Printing of metrics\n",
    "print(round(accuracy_score(y_test_710, pipe_pred),2))\n",
    "print(confusion_matrix(y_test_710, pipe_pred))\n",
    "print(classification_report(y_test_710, pipe_pred))"
   ]
  },
  {
   "cell_type": "code",
   "execution_count": 64,
   "id": "automotive-canon",
   "metadata": {},
   "outputs": [],
   "source": [
    "ser_pred = pd.Series(pred, index = y_test.index)\n",
    "id_7_10 = ser_pred[ser_pred.isin([7,10])].index\n",
    "X_test_vec_710 = vectorizer_710.transform(X_test[id_7_10])\n",
    "pred_7_10 = nb.predict(X_test_vec_710)\n",
    "ser_pred.loc[id_7_10] = pred_7_10"
   ]
  },
  {
   "cell_type": "code",
   "execution_count": 65,
   "id": "invisible-egypt",
   "metadata": {},
   "outputs": [
    {
     "name": "stdout",
     "output_type": "stream",
     "text": [
      "0.9\n",
      "[[327   1   2   0   0   0   0   0  15   1   0   1   1   2   0   0]\n",
      " [  0 330   1   1   3   3   1   6   0   2   0   0   0   2   0   1]\n",
      " [  4   0 317  22   1   1   0   0   0   2   0   0   0   3   0   0]\n",
      " [  0   0  17 329   0   1   0   1   1   1   0   0   0   0   0   0]\n",
      " [  0   0   1   0 318   4   0   8   0   2   2   0  11   2   0   2]\n",
      " [  0   1   1   2   3 330   0   0   1   0   0   1   6   2   3   0]\n",
      " [  0   1   1   0   0   1 304   4   0   1   0   8   5   4   9  11]\n",
      " [  0   1   0   1   4   1   0 308   1   6  19   0   6   0   1   2]\n",
      " [ 14   1   4   3   1   0   0   0 321   0   0   1   0   4   1   0]\n",
      " [  1   5   9   4   6   3   4   8   0 294   5   1   3   3   1   3]\n",
      " [  0   1   0   1   3   0   1  79   0   7 251   1   2   0   1   3]\n",
      " [  0   2   2   3   0   0   4   0   3   5   0 322   0   4   3   2]\n",
      " [  0   0   0   1   8  11   3   3   0   1   1   0 313   2   7   0]\n",
      " [  2   0   5   0   0   0   0   0   1   0   0   0   1 341   0   0]\n",
      " [  1   1   0   0   1   3   4   6   0   2   0   1  14   3 314   0]\n",
      " [  0   5   0   1   0   0   5   4   1   1   5   1   0   0   1 326]]\n",
      "              precision    recall  f1-score   support\n",
      "\n",
      "           0       0.94      0.93      0.94       350\n",
      "           1       0.95      0.94      0.94       350\n",
      "           2       0.88      0.91      0.89       350\n",
      "           3       0.89      0.94      0.92       350\n",
      "           4       0.91      0.91      0.91       350\n",
      "           5       0.92      0.94      0.93       350\n",
      "           6       0.93      0.87      0.90       349\n",
      "           7       0.72      0.88      0.79       350\n",
      "           8       0.93      0.92      0.93       350\n",
      "           9       0.90      0.84      0.87       350\n",
      "          10       0.89      0.72      0.79       350\n",
      "          11       0.96      0.92      0.94       350\n",
      "          12       0.86      0.89      0.88       350\n",
      "          13       0.92      0.97      0.94       350\n",
      "          14       0.92      0.90      0.91       350\n",
      "          15       0.93      0.93      0.93       350\n",
      "\n",
      "    accuracy                           0.90      5599\n",
      "   macro avg       0.90      0.90      0.90      5599\n",
      "weighted avg       0.90      0.90      0.90      5599\n",
      "\n"
     ]
    }
   ],
   "source": [
    "from sklearn.metrics import confusion_matrix, accuracy_score\n",
    "from sklearn.metrics import classification_report\n",
    "\n",
    "#Printing of metrics\n",
    "print(round(accuracy_score(y_test, ser_pred),2))\n",
    "print(confusion_matrix(y_test, ser_pred))\n",
    "print(classification_report(y_test, ser_pred))"
   ]
  },
  {
   "cell_type": "markdown",
   "id": "residential-balance",
   "metadata": {},
   "source": [
    "**Submission**"
   ]
  },
  {
   "cell_type": "code",
   "execution_count": 46,
   "id": "egyptian-share",
   "metadata": {},
   "outputs": [],
   "source": [
    "X_finaltest = df_finaltest['prep']\n",
    "X_finaltest_vec = vectorizer.transform(X_finaltest)"
   ]
  },
  {
   "cell_type": "code",
   "execution_count": 47,
   "id": "caroline-producer",
   "metadata": {},
   "outputs": [
    {
     "name": "stdout",
     "output_type": "stream",
     "text": [
      "Shape of train data : (552735, 725690)\n"
     ]
    }
   ],
   "source": [
    "final_test_feature_matrix = scaler.transform(final_test_feature_matrix)\n",
    "X_final_test_feature = hstack([X_finaltest_vec, final_test_feature_matrix])\n",
    "print('Shape of train data :',X_final_test_feature.shape)"
   ]
  },
  {
   "cell_type": "code",
   "execution_count": 49,
   "id": "professional-glenn",
   "metadata": {},
   "outputs": [],
   "source": [
    "nb_final_pred = nb.predict(X_final_test_feature)\n",
    "\n",
    "pred_df = pd.DataFrame({'Id': df_finaltest.Id, 'Outcome' :nb_final_pred}).set_index('Id', drop = True)\n",
    "\n",
    "pred_df.to_csv('submission30_limit_100.csv')"
   ]
  },
  {
   "cell_type": "markdown",
   "id": "arranged-dating",
   "metadata": {},
   "source": [
    "# 4.1 Word2Vec Models"
   ]
  },
  {
   "cell_type": "code",
   "execution_count": 66,
   "id": "blank-violation",
   "metadata": {},
   "outputs": [],
   "source": [
    "from tqdm import tqdm\n",
    "tqdm.pandas(desc=\"progress-bar\")\n",
    "from gensim.models import Doc2Vec\n",
    "from sklearn import utils\n",
    "import gensim\n",
    "from gensim.models import doc2vec\n",
    "import re\n",
    "\n",
    "def label_sentences(corpus, label_type):\n",
    "    \"\"\"\n",
    "    Gensim's Doc2Vec implementation requires each document/paragraph to have a label associated with it.\n",
    "    We do this by using the TaggedDocument method. The format will be \"TRAIN_i\" or \"TEST_i\" where \"i\" is\n",
    "    a dummy index of the post.\n",
    "    \"\"\"\n",
    "    labeled = []\n",
    "    for i, v in enumerate(corpus):\n",
    "        label = label_type + '_' + str(i)\n",
    "        labeled.append(doc2vec.TaggedDocument(v.split(), [label]))\n",
    "    return labeled"
   ]
  },
  {
   "cell_type": "code",
   "execution_count": 71,
   "id": "peaceful-going",
   "metadata": {},
   "outputs": [],
   "source": [
    "X_train = df_train.prep\n",
    "X_test = df_test.prep\n",
    "X_finaltest = df_finaltest.prep"
   ]
  },
  {
   "cell_type": "code",
   "execution_count": 72,
   "id": "terminal-evening",
   "metadata": {},
   "outputs": [],
   "source": [
    "doc_train = label_sentences(X_train, 'Train')\n",
    "doc_test = label_sentences(X_test, 'Test')\n",
    "doc_finaltest = label_sentences(X_finaltest, 'FinalTest')"
   ]
  },
  {
   "cell_type": "code",
   "execution_count": 73,
   "id": "former-natural",
   "metadata": {},
   "outputs": [],
   "source": [
    "all_doc = doc_train + doc_test + doc_finaltest"
   ]
  },
  {
   "cell_type": "code",
   "execution_count": 74,
   "id": "suffering-display",
   "metadata": {},
   "outputs": [
    {
     "name": "stderr",
     "output_type": "stream",
     "text": [
      "100%|█████████████████████████████████████████████████████████████████████| 806827/806827 [00:00<00:00, 4010392.79it/s]\n",
      "100%|██████████████████████████████████████████████████████████████████████████████████| 30/30 [14:10<00:00, 28.36s/it]\n"
     ]
    }
   ],
   "source": [
    "model_dbow = Doc2Vec(dm=0, \n",
    "                     vector_size=500, \n",
    "                     negative=5, \n",
    "                     min_count=1, \n",
    "                     alpha=0.065, \n",
    "                     min_alpha=0.065)\n",
    "\n",
    "model_dbow.build_vocab([x for x in tqdm(all_doc)])\n",
    "\n",
    "for epoch in tqdm(range(30)):\n",
    "    model_dbow.train(utils.shuffle([x for x in (all_doc)]), \n",
    "                     total_examples=len(all_doc), \n",
    "                     epochs=1)\n",
    "    model_dbow.alpha -= 0.002\n",
    "    model_dbow.min_alpha = model_dbow.alpha"
   ]
  },
  {
   "cell_type": "code",
   "execution_count": 75,
   "id": "heavy-french",
   "metadata": {},
   "outputs": [],
   "source": [
    "def get_vectors(model, corpus_size, vectors_size, vectors_type):\n",
    "    \"\"\"\n",
    "    Get vectors from trained doc2vec model\n",
    "    :param doc2vec_model: Trained Doc2Vec model\n",
    "    :param corpus_size: Size of the data\n",
    "    :param vectors_size: Size of the embedding vectors\n",
    "    :param vectors_type: Training or Testing vectors\n",
    "    :return: list of vectors\n",
    "    \"\"\"\n",
    "    vectors = np.zeros((corpus_size, vectors_size))\n",
    "    for i in range(0, corpus_size):\n",
    "        prefix = vectors_type + '_' + str(i)\n",
    "        vectors[i] = model.docvecs[prefix]\n",
    "    return vectors\n",
    "    \n",
    "train_vectors_dbow = get_vectors(model_dbow, len(X_train), 500, 'Train')\n",
    "test_vectors_dbow = get_vectors(model_dbow, len(X_test), 500, 'Test')\n",
    "finaltest_vectors_dbow = get_vectors(model_dbow, len(X_finaltest), 500, 'FinalTest')"
   ]
  },
  {
   "cell_type": "code",
   "execution_count": 76,
   "id": "attempted-stereo",
   "metadata": {},
   "outputs": [
    {
     "data": {
      "text/plain": [
       "(248493, 500)"
      ]
     },
     "execution_count": 76,
     "metadata": {},
     "output_type": "execute_result"
    }
   ],
   "source": [
    "train_vectors_dbow.shape"
   ]
  },
  {
   "cell_type": "code",
   "execution_count": 77,
   "id": "engaged-greenhouse",
   "metadata": {},
   "outputs": [],
   "source": [
    "from imblearn.over_sampling import SMOTE\n",
    "from sklearn.feature_extraction.text import CountVectorizer\n",
    "\n",
    "#Define TF-IDF Vectorizer\n",
    "# vectorizer = CountVectorizer(stop_words='english', min_df = 2)\n",
    "# X_train_vec = vectorizer.fit_transform(X_train)\n",
    "# X_test_vec = vectorizer.transform(X_test)\n",
    "\n",
    "sm = SMOTE()\n",
    "X_SMOTE, y_SMOTE = sm.fit_resample(train_vectors_dbow, y_train)"
   ]
  },
  {
   "cell_type": "code",
   "execution_count": 79,
   "id": "passive-container",
   "metadata": {},
   "outputs": [],
   "source": [
    "from sklearn.linear_model import LogisticRegression\n",
    "\n",
    "logreg = LogisticRegression(n_jobs=-1, C=1e5)\n",
    "logreg.fit(X_SMOTE, y_SMOTE)\n",
    "lr_pred = logreg.predict(test_vectors_dbow)"
   ]
  },
  {
   "cell_type": "code",
   "execution_count": 80,
   "id": "starting-payday",
   "metadata": {},
   "outputs": [
    {
     "name": "stdout",
     "output_type": "stream",
     "text": [
      "0.85\n",
      "[[311   0   2   2   0   1   0   1  28   1   1   1   0   1   1   0]\n",
      " [  0 318   1   1   2   2   2   5   0   4   3   2   0   1   0   9]\n",
      " [  6   3 304  20   1   1   1   0   5   3   2   2   0   2   0   0]\n",
      " [  1   1  20 312   0   3   1   0   3   2   1   3   0   1   0   2]\n",
      " [  0   1   0   0 308   5   1   6   1   2   2   2  15   3   0   4]\n",
      " [  0   1   4   4   3 318   0   0   2   0   1   1   9   3   3   1]\n",
      " [  0   3   0   0   0   3 279   3   1   1   1   9  15   1  13  20]\n",
      " [  0   1   0   2   3   1   0 234   1  15  81   0   8   0   2   2]\n",
      " [ 21   1   5   1   0   0   0   0 312   2   0   4   0   2   2   0]\n",
      " [  0   1  14   3   4   2   3   8   1 294   5   4   5   4   1   1]\n",
      " [  0   3   1   3   2   0   1  75   1   8 245   1   1   0   2   7]\n",
      " [  0   1   3   2   0   1   0   0   4   3   0 330   2   1   2   1]\n",
      " [  0   1   2   1  16  11   2   3   0   3   3   0 285   2  21   0]\n",
      " [  3   0   4   1   1   1   0   0   6   1   0   0   4 328   1   0]\n",
      " [  1   1   0   2   0   1   9   0   1   5   1   2  16   1 309   1]\n",
      " [  0  10   0   1   1   1  21   2   3   2   8   1   1   1   0 298]]\n",
      "              precision    recall  f1-score   support\n",
      "\n",
      "           0       0.91      0.89      0.90       350\n",
      "           1       0.92      0.91      0.91       350\n",
      "           2       0.84      0.87      0.86       350\n",
      "           3       0.88      0.89      0.89       350\n",
      "           4       0.90      0.88      0.89       350\n",
      "           5       0.91      0.91      0.91       350\n",
      "           6       0.87      0.80      0.83       349\n",
      "           7       0.69      0.67      0.68       350\n",
      "           8       0.85      0.89      0.87       350\n",
      "           9       0.85      0.84      0.84       350\n",
      "          10       0.69      0.70      0.70       350\n",
      "          11       0.91      0.94      0.93       350\n",
      "          12       0.79      0.81      0.80       350\n",
      "          13       0.93      0.94      0.94       350\n",
      "          14       0.87      0.88      0.87       350\n",
      "          15       0.86      0.85      0.86       350\n",
      "\n",
      "    accuracy                           0.85      5599\n",
      "   macro avg       0.85      0.85      0.85      5599\n",
      "weighted avg       0.85      0.85      0.85      5599\n",
      "\n"
     ]
    }
   ],
   "source": [
    "from sklearn.metrics import confusion_matrix, accuracy_score, classification_report\n",
    "\n",
    "#Printing of metrics\n",
    "print(round(accuracy_score(y_test, lr_pred),2))\n",
    "print(confusion_matrix(y_test, lr_pred))\n",
    "print(classification_report(y_test, lr_pred))"
   ]
  },
  {
   "cell_type": "markdown",
   "id": "rational-forwarding",
   "metadata": {},
   "source": [
    "# "
   ]
  },
  {
   "cell_type": "code",
   "execution_count": null,
   "id": "formal-lounge",
   "metadata": {},
   "outputs": [],
   "source": [
    "X_finaltest = df_test['prep']\n",
    "finaltest_vectors_dbow = get_vectors(model_dbow, len(X_finaltest), 300, 'Test')\n",
    "lr_final_pred = logreg.predict(finaltest_vectors_dbow)\n",
    "\n",
    "pred_df = pd.DataFrame({'Id': df_test.Id, 'Outcome' :lr_final_pred}).set_index('Id', drop = True)\n",
    "\n",
    "pred_df.to_csv('submission22_vec2word.csv')"
   ]
  }
 ],
 "metadata": {
  "kernelspec": {
   "display_name": "Python [conda env:python3.7]",
   "language": "python",
   "name": "conda-env-python3.7-py"
  },
  "language_info": {
   "codemirror_mode": {
    "name": "ipython",
    "version": 3
   },
   "file_extension": ".py",
   "mimetype": "text/x-python",
   "name": "python",
   "nbconvert_exporter": "python",
   "pygments_lexer": "ipython3",
   "version": "3.7.7"
  }
 },
 "nbformat": 4,
 "nbformat_minor": 5
}
